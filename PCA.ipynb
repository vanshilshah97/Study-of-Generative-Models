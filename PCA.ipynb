{
  "nbformat": 4,
  "nbformat_minor": 0,
  "metadata": {
    "colab": {
      "name": "PCA Analysis",
      "provenance": [],
      "collapsed_sections": []
    },
    "kernelspec": {
      "name": "python3",
      "display_name": "Python 3"
    },
    "language_info": {
      "name": "python"
    },
    "accelerator": "GPU"
  },
  "cells": [
    {
      "cell_type": "code",
      "metadata": {
        "id": "24UGdb9IYmqJ"
      },
      "source": [
        "import numpy as np\n",
        "import torch\n",
        "import torchvision.datasets as datasets\n",
        "import matplotlib.pyplot as plt\n",
        "from matplotlib.pyplot import figure\n",
        "import sklearn\n",
        "from sklearn.decomposition import PCA\n",
        "import torchvision.transforms as transforms\n",
        "from copy import deepcopy\n",
        "import cv2\n",
        "from scipy.stats import stats\n",
        "import matplotlib.image as mpimg\n",
        "import torch.nn as nn"
      ],
      "execution_count": null,
      "outputs": []
    },
    {
      "cell_type": "code",
      "source": [
        "from google.colab import drive\n",
        "drive.mount('/content/gdrive')"
      ],
      "metadata": {
        "colab": {
          "base_uri": "https://localhost:8080/"
        },
        "id": "__qU1cJZQt-I",
        "outputId": "3562f92c-5539-4f54-a935-3bfb5289f896"
      },
      "execution_count": null,
      "outputs": [
        {
          "output_type": "stream",
          "name": "stdout",
          "text": [
            "Mounted at /content/gdrive\n"
          ]
        }
      ]
    },
    {
      "cell_type": "code",
      "metadata": {
        "colab": {
          "base_uri": "https://localhost:8080/"
        },
        "id": "aICmBibAZGO1",
        "outputId": "c186f2da-3d43-441f-f2d8-5372c9ca7f41"
      },
      "source": [
        "transform = transforms.Compose(\n",
        "    [transforms.ToTensor(),\n",
        "     transforms.Normalize((0.5, 0.5, 0.5), (0.5, 0.5, 0.5))])\n",
        "trainData = datasets.CIFAR10(root='./data', download=True, transform=transform)\n",
        "\n",
        "classes = ('plane', 'car', 'bird', 'cat',\n",
        "           'deer', 'dog', 'frog', 'horse', 'ship', 'truck')"
      ],
      "execution_count": null,
      "outputs": [
        {
          "output_type": "stream",
          "name": "stdout",
          "text": [
            "Files already downloaded and verified\n"
          ]
        }
      ]
    },
    {
      "cell_type": "code",
      "metadata": {
        "id": "GalscPgvZSo3",
        "colab": {
          "base_uri": "https://localhost:8080/"
        },
        "outputId": "feaad8a4-3bb6-48d1-96f5-cf2ac7949e27"
      },
      "source": [
        "xTrain = trainData.data\n",
        "xTrain = ((xTrain/255) -0.5)/0.5 \n",
        "print(xTrain.shape)\n",
        "yTrain = trainData.targets\n",
        "yTrain = np.array(yTrain)\n",
        "print(yTrain[0])"
      ],
      "execution_count": null,
      "outputs": [
        {
          "output_type": "stream",
          "name": "stdout",
          "text": [
            "(50000, 32, 32, 3)\n",
            "6\n"
          ]
        }
      ]
    },
    {
      "cell_type": "code",
      "source": [
        "label_of_int = 3 #baseline generation starts\n",
        "label_wala_data = xTrain[yTrain==label_of_int] \n",
        "print(label_wala_data.shape)"
      ],
      "metadata": {
        "colab": {
          "base_uri": "https://localhost:8080/"
        },
        "id": "h3jcqA3fKoJb",
        "outputId": "13cefecd-9b81-4494-9184-dc824fbf149c"
      },
      "execution_count": null,
      "outputs": [
        {
          "output_type": "stream",
          "name": "stdout",
          "text": [
            "(5000, 32, 32, 3)\n"
          ]
        }
      ]
    },
    {
      "cell_type": "code",
      "source": [
        "img_of_int = np.mean(label_wala_data, 0)\n",
        "img_of_int = img_of_int*0.5+0.5\n",
        "print(img_of_int.shape)\n",
        "label_wala_plot = label_wala_data[0]\n",
        "label_wala_plot = label_wala_plot*0.5+0.5"
      ],
      "metadata": {
        "colab": {
          "base_uri": "https://localhost:8080/"
        },
        "id": "K7mBn1zcKoA7",
        "outputId": "483f4ae4-2862-4ccd-d53e-21fda74e6160"
      },
      "execution_count": null,
      "outputs": [
        {
          "output_type": "stream",
          "name": "stdout",
          "text": [
            "(32, 32, 3)\n"
          ]
        }
      ]
    },
    {
      "cell_type": "code",
      "source": [
        "plt.imshow(img_of_int) #ends\n",
        "# plt.imshow(label_wala_plot)"
      ],
      "metadata": {
        "colab": {
          "base_uri": "https://localhost:8080/",
          "height": 284
        },
        "id": "GR1pDwYVKn7J",
        "outputId": "83974ed3-9384-4116-dd66-5b177ea23ea9"
      },
      "execution_count": null,
      "outputs": [
        {
          "output_type": "execute_result",
          "data": {
            "text/plain": [
              "<matplotlib.image.AxesImage at 0x7f49a87e7d50>"
            ]
          },
          "metadata": {},
          "execution_count": 137
        },
        {
          "output_type": "display_data",
          "data": {
            "image/png": "[encoded data removed]",
            "text/plain": [
              "<Figure size 432x288 with 1 Axes>"
            ]
          },
          "metadata": {
            "needs_background": "light"
          }
        }
      ]
    },
    {
      "cell_type": "code",
      "metadata": {
        "id": "9h9wWqg8ouDW"
      },
      "source": [
        "def imshow(img,label,idx):\n",
        "    plt.imshow(img[idx])\n",
        "    print(label[idx])\n",
        "\n",
        "def unenrollImage(img):\n",
        "    unenImg = img.reshape(-1,img.shape[1]*img.shape[2])\n",
        "    return unenImg"
      ],
      "execution_count": null,
      "outputs": []
    },
    {
      "cell_type": "code",
      "metadata": {
        "colab": {
          "base_uri": "https://localhost:8080/",
          "height": 302
        },
        "id": "hX_w2zR-q0Ie",
        "outputId": "434bd80c-8b2b-4597-fcd8-4504cba21245"
      },
      "source": [
        "imshow(trainData.data,yTrain,15)\n",
        "#Splitting into channels\n",
        "blue,green,red = cv2.split(trainData.data[15])\n",
        "\n",
        "blue_images = xTrain[:, :, :,0]\n",
        "green_images = xTrain[:, :, :,1]\n",
        "red_images = xTrain[:, :, :,2]\n",
        "\n",
        "blue_images = np.reshape(blue_images, (blue_images.shape[0], (blue_images.shape[1]*blue_images.shape[2])))\n",
        "green_images = np.reshape(green_images, (green_images.shape[0], (green_images.shape[1]*green_images.shape[2])))\n",
        "red_images = np.reshape(red_images, (red_images.shape[0], (red_images.shape[1]*red_images.shape[2])))\n",
        "\n",
        "final_array = np.hstack((blue_images, green_images, red_images))\n",
        "print(final_array.shape)\n"
      ],
      "execution_count": null,
      "outputs": [
        {
          "output_type": "stream",
          "name": "stdout",
          "text": [
            "9\n",
            "(50000, 3072)\n"
          ]
        },
        {
          "output_type": "display_data",
          "data": {
            "image/png": "[encoded data removed]",
            "text/plain": [
              "<Figure size 432x288 with 1 Axes>"
            ]
          },
          "metadata": {
            "needs_background": "light"
          }
        }
      ]
    },
    {
      "cell_type": "code",
      "metadata": {
        "id": "903sNKwDHB96"
      },
      "source": [
        "def pca2(X,components=3):\n",
        "    pca2 = PCA(n_components=components,svd_solver='full')\n",
        "    pca2.fit(X)\n",
        "    return pca2"
      ],
      "execution_count": null,
      "outputs": []
    },
    {
      "cell_type": "code",
      "source": [
        "model = pca2(final_array, 0.95)"
      ],
      "metadata": {
        "id": "1Feo9fVsBtTg"
      },
      "execution_count": null,
      "outputs": []
    },
    {
      "cell_type": "code",
      "source": [
        "final_array_score = np.dot(final_array, model.components_.T)\n",
        "final_array_loadings = model.components_"
      ],
      "metadata": {
        "id": "z79GWRs7B1Ek"
      },
      "execution_count": null,
      "outputs": []
    },
    {
      "cell_type": "code",
      "source": [
        "final_recon = np.dot(final_array_score, final_array_loadings)\n",
        "\n",
        "final_recon_blue = final_recon[:, :1024]\n",
        "final_recon_green = final_recon[:, 1024:2048]\n",
        "final_recon_red = final_recon[:, 2048:3072]\n",
        "\n",
        "final_recon_blue = np.reshape(final_recon_blue, (50000, 32,32))\n",
        "final_recon_green = np.reshape(final_recon_green, (50000, 32,32))\n",
        "final_recon_red = np.reshape(final_recon_red, (50000, 32,32))\n",
        "print(final_recon_blue.shape)"
      ],
      "metadata": {
        "colab": {
          "base_uri": "https://localhost:8080/"
        },
        "id": "Ba78O3PYB1CX",
        "outputId": "947555ad-0916-4cba-977d-02da0d31cb89"
      },
      "execution_count": null,
      "outputs": [
        {
          "output_type": "stream",
          "name": "stdout",
          "text": [
            "(50000, 32, 32)\n"
          ]
        }
      ]
    },
    {
      "cell_type": "code",
      "source": [
        "array_to_show = np.stack((final_recon_blue, final_recon_green, final_recon_red), axis=3)\n",
        "print(array_to_show.shape)\n",
        "array_to_show = (array_to_show*0.5+0.5)\n"
      ],
      "metadata": {
        "colab": {
          "base_uri": "https://localhost:8080/"
        },
        "id": "fQD-QR4NB1AC",
        "outputId": "0d78e036-65b2-4e57-b60e-20b62eede82e"
      },
      "execution_count": null,
      "outputs": [
        {
          "output_type": "stream",
          "name": "stdout",
          "text": [
            "(50000, 32, 32, 3)\n"
          ]
        }
      ]
    },
    {
      "cell_type": "code",
      "source": [
        "plt.imshow(array_to_show[8])\n",
        "data = trainData.data\n",
        "#plt.imshow(data[600])"
      ],
      "metadata": {
        "colab": {
          "base_uri": "https://localhost:8080/",
          "height": 284
        },
        "id": "Kn6DYjtcB088",
        "outputId": "e57b5e6e-2cc1-4bf9-b0b8-7557ee225a8d"
      },
      "execution_count": null,
      "outputs": [
        {
          "output_type": "stream",
          "name": "stderr",
          "text": [
            "Clipping input data to the valid range for imshow with RGB data ([0..1] for floats or [0..255] for integers).\n"
          ]
        },
        {
          "output_type": "display_data",
          "data": {
            "image/png": "[encoded data removed]",
            "text/plain": [
              "<Figure size 432x288 with 1 Axes>"
            ]
          },
          "metadata": {
            "needs_background": "light"
          }
        }
      ]
    },
    {
      "cell_type": "code",
      "source": [
        "print(final_array_score.shape)"
      ],
      "metadata": {
        "colab": {
          "base_uri": "https://localhost:8080/"
        },
        "id": "CaHRMR5UB06k",
        "outputId": "1756a15a-5a7d-4dfc-d0c2-5c391a3f11df"
      },
      "execution_count": null,
      "outputs": [
        {
          "output_type": "stream",
          "name": "stdout",
          "text": [
            "(50000, 217)\n"
          ]
        }
      ]
    },
    {
      "cell_type": "markdown",
      "source": [
        "**MOVEMENT TO CLUSTER CENTER**"
      ],
      "metadata": {
        "id": "JtdkDt7nKx61"
      }
    },
    {
      "cell_type": "code",
      "source": [
        "class_to_cluster = 9 #cluster centre movement begins here\n",
        "score_arr_copy = deepcopy(final_array_score)\n",
        "loading_copy = deepcopy(final_array_loadings)\n",
        "model_scores_to_cluster = deepcopy(final_array_score[yTrain==class_to_cluster])\n",
        "#print(np.where(score_arr_copy[yTrain==class_to_cluster]))\n",
        "print(model_scores_to_cluster.shape)"
      ],
      "metadata": {
        "colab": {
          "base_uri": "https://localhost:8080/"
        },
        "id": "E0ksHTE8WYFc",
        "outputId": "4701ef4a-7e63-4f6a-f4b7-723cfe0d7d5b"
      },
      "execution_count": null,
      "outputs": [
        {
          "output_type": "stream",
          "name": "stdout",
          "text": [
            "(5000, 217)\n"
          ]
        }
      ]
    },
    {
      "cell_type": "code",
      "source": [
        "avg_scores = np.mean(model_scores_to_cluster, 0)\n",
        "print(avg_scores.shape)"
      ],
      "metadata": {
        "colab": {
          "base_uri": "https://localhost:8080/"
        },
        "id": "u5vomhNKWYCG",
        "outputId": "137105f4-ecce-4af3-c7db-7fa4426b8bb1"
      },
      "execution_count": null,
      "outputs": [
        {
          "output_type": "stream",
          "name": "stdout",
          "text": [
            "(217,)\n"
          ]
        }
      ]
    },
    {
      "cell_type": "code",
      "source": [
        "img_to_move = 0\n",
        "original_score = model_scores_to_cluster[img_to_move]\n",
        "new_score = model_scores_to_cluster[img_to_move] + (avg_scores - model_scores_to_cluster[img_to_move])*0.5\n",
        "recon = np.dot(new_score, loading_copy)\n",
        "original_img = np.dot(original_score, loading_copy)\n",
        "avg_img = np.dot(avg_scores, loading_copy)\n",
        "print(recon.shape)\n",
        "print(original_img.shape)\n"
      ],
      "metadata": {
        "colab": {
          "base_uri": "https://localhost:8080/"
        },
        "id": "srtUrBPTWYAD",
        "outputId": "2b9419a9-a03c-4492-c283-1207bd4328f3"
      },
      "execution_count": null,
      "outputs": [
        {
          "output_type": "stream",
          "name": "stdout",
          "text": [
            "(3072,)\n",
            "(3072,)\n"
          ]
        }
      ]
    },
    {
      "cell_type": "code",
      "source": [
        "def make_img(p_recon):\n",
        "\n",
        "  p_recon_blue = p_recon[:1024]\n",
        "  p_recon_green = p_recon[1024:2048]\n",
        "  p_recon_red = p_recon[2048:3072]\n",
        "\n",
        "  p_recon_blue = np.reshape(p_recon_blue, (32,32))\n",
        "  p_recon_green = np.reshape(p_recon_green, (32,32))\n",
        "  p_recon_red = np.reshape(p_recon_red, (32,32))\n",
        "  print(p_recon_blue.shape)\n",
        "\n",
        "\n",
        "  p_array_to_show = np.stack((p_recon_blue, p_recon_green, p_recon_red), axis=2)\n",
        "\n",
        "  p_array_to_show = (p_array_to_show*0.5+0.5)\n",
        "  return p_array_to_show"
      ],
      "metadata": {
        "id": "UN0VfRtHn7OS"
      },
      "execution_count": null,
      "outputs": []
    },
    {
      "cell_type": "code",
      "source": [
        "plt.subplot(131)\n",
        "plt.imshow(make_img(original_img))\n",
        "plt.subplot(132)\n",
        "plt.imshow(make_img(avg_img))\n",
        "plt.subplot(133)\n",
        "plt.imshow(make_img(recon))"
      ],
      "metadata": {
        "colab": {
          "base_uri": "https://localhost:8080/",
          "height": 239
        },
        "id": "C5Z4zWslWX93",
        "outputId": "238a3fda-a4dc-462b-fe9a-9ef31a065bc5"
      },
      "execution_count": null,
      "outputs": [
        {
          "output_type": "stream",
          "name": "stderr",
          "text": [
            "Clipping input data to the valid range for imshow with RGB data ([0..1] for floats or [0..255] for integers).\n"
          ]
        },
        {
          "output_type": "stream",
          "name": "stdout",
          "text": [
            "(32, 32)\n",
            "(32, 32)\n",
            "(32, 32)\n"
          ]
        },
        {
          "output_type": "execute_result",
          "data": {
            "text/plain": [
              "<matplotlib.image.AxesImage at 0x7f49b06ac710>"
            ]
          },
          "metadata": {},
          "execution_count": 21
        },
        {
          "output_type": "display_data",
          "data": {
            "image/png": "[encoded data removed]",
            "text/plain": [
              "<Figure size 432x288 with 3 Axes>"
            ]
          },
          "metadata": {
            "needs_background": "light"
          }
        }
      ]
    },
    {
      "cell_type": "markdown",
      "source": [
        "**RANDOM PERTUBATION + ALEXNET INFERENCE**"
      ],
      "metadata": {
        "id": "yzYWQSDdOb7g"
      }
    },
    {
      "cell_type": "code",
      "source": [
        "def random_purt(img_index): #random begins here\n",
        "  score_arr_rand = deepcopy(final_array_score)\n",
        "  loading_rand = deepcopy(final_array_loadings)\n",
        "  score_int = score_arr_rand[img_index]\n",
        "  print(classes[yTrain[0]])\n",
        "  print(classes[yTrain[img_index]])\n",
        "  score_int = score_int + np.random.normal(0, 0.05)\n",
        "  recon = np.dot(score_int, loading_rand)\n",
        "  plt.imshow(make_img(recon))\n",
        "  return make_img(recon),yTrain[img_index]\n",
        "\n"
      ],
      "metadata": {
        "id": "05WkwSK6WX7b"
      },
      "execution_count": null,
      "outputs": []
    },
    {
      "cell_type": "code",
      "source": [
        "randidx =np.random.randint(0,10000)\n",
        "rimg,label = random_purt(randidx)"
      ],
      "metadata": {
        "colab": {
          "base_uri": "https://localhost:8080/",
          "height": 338
        },
        "id": "K43SDxHyNI3g",
        "outputId": "3a02aa03-da6d-43e9-8c6d-26bf9c993a4d"
      },
      "execution_count": null,
      "outputs": [
        {
          "output_type": "stream",
          "name": "stdout",
          "text": [
            "frog\n",
            "deer\n",
            "(32, 32)\n",
            "(32, 32)\n"
          ]
        },
        {
          "output_type": "display_data",
          "data": {
            "image/png": "[encoded data removed]",
            "text/plain": [
              "<Figure size 432x288 with 1 Axes>"
            ]
          },
          "metadata": {
            "needs_background": "light"
          }
        }
      ]
    },
    {
      "cell_type": "code",
      "source": [
        " \n",
        "PATHDense = '/content/gdrive/MyDrive/CIS520_models/model_best.pth.tar'"
      ],
      "metadata": {
        "id": "Mn0gAx69O4HC"
      },
      "execution_count": null,
      "outputs": []
    },
    {
      "cell_type": "code",
      "source": [
        "\n",
        "__all__ = ['alexnet']\n",
        "\n",
        "class AlexNet(nn.Module):\n",
        "\n",
        "    def __init__(self, num_classes=10):\n",
        "        super(AlexNet, self).__init__()\n",
        "        self.features = nn.Sequential(\n",
        "            nn.Conv2d(3, 64, kernel_size=11, stride=4, padding=5),\n",
        "            nn.ReLU(inplace=True),\n",
        "            nn.MaxPool2d(kernel_size=2, stride=2),\n",
        "            nn.Conv2d(64, 192, kernel_size=5, padding=2),\n",
        "            nn.ReLU(inplace=True),\n",
        "            nn.MaxPool2d(kernel_size=2, stride=2),\n",
        "            nn.Conv2d(192, 384, kernel_size=3, padding=1),\n",
        "            nn.ReLU(inplace=True),\n",
        "            nn.Conv2d(384, 256, kernel_size=3, padding=1),\n",
        "            nn.ReLU(inplace=True),\n",
        "            nn.Conv2d(256, 256, kernel_size=3, padding=1),\n",
        "            nn.ReLU(inplace=True),\n",
        "            nn.MaxPool2d(kernel_size=2, stride=2),\n",
        "        )\n",
        "        self.classifier = nn.Linear(256, num_classes)\n",
        "\n",
        "    def forward(self, x):\n",
        "        x = self.features(x)\n",
        "        x = x.view(x.size(0), -1)\n",
        "        x = self.classifier(x)\n",
        "        return x\n",
        "\n",
        "\n",
        "def alexnet(**kwargs):\n",
        "    r\"\"\"AlexNet model architecture from the\n",
        "    `\"One weird trick...\" <https://arxiv.org/abs/1404.5997>`_ paper.\n",
        "    \"\"\"\n",
        "    model = AlexNet(**kwargs)\n",
        "    return model"
      ],
      "metadata": {
        "id": "3H8My4DiO-ft"
      },
      "execution_count": null,
      "outputs": []
    },
    {
      "cell_type": "code",
      "source": [
        "alexModel = AlexNet().float()\n",
        "# original saved file with DataParallel\n",
        "checkpoint = torch.load(PATHDense)\n",
        "state_dict = checkpoint['state_dict']\n",
        "# create new OrderedDict that does not contain `module.`\n",
        "from collections import OrderedDict\n",
        "new_state_dict = OrderedDict()\n",
        "for k, v in state_dict.items():\n",
        "    if k==\"classifier.weight\" or k==\"classifier.bias\":\n",
        "      name = k\n",
        "    else:\n",
        "      name = k[:8]+k[15:] # remove `module.`\n",
        "    new_state_dict[name] = v\n",
        "# load params\n",
        "alexModel.load_state_dict(new_state_dict)"
      ],
      "metadata": {
        "colab": {
          "base_uri": "https://localhost:8080/"
        },
        "id": "iBfYZediQ09j",
        "outputId": "fc1d5496-28c1-440a-a18f-bf782f1f125c"
      },
      "execution_count": null,
      "outputs": [
        {
          "output_type": "execute_result",
          "data": {
            "text/plain": [
              "<All keys matched successfully>"
            ]
          },
          "metadata": {},
          "execution_count": 98
        }
      ]
    },
    {
      "cell_type": "code",
      "source": [
        "def show_img(idx,trainset):\n",
        "    img = trainset[idx][0]\n",
        "    plt.imshow(trainset.data[idx]/255)\n",
        "def show_pimg(noisy_decoded):\n",
        "    noisy_red_decoded = noisy_decoded[0].detach().cpu().numpy()\n",
        "    noisy_blue_decoded = noisy_decoded[1].detach().cpu().numpy()\n",
        "    noisy_green_decoded = noisy_decoded[2].detach().cpu().numpy()\n",
        "    perturbed_img = np.stack((noisy_red_decoded,noisy_blue_decoded,noisy_green_decoded),axis=2)\n",
        "    plt.imshow(perturbed_img)"
      ],
      "metadata": {
        "id": "EQ986oEFO-cv"
      },
      "execution_count": null,
      "outputs": []
    },
    {
      "cell_type": "code",
      "source": [
        "def report_pdist(alexmodel,recimg,label):\n",
        "  img = torch.from_numpy(recimg)\n",
        "  linear = alexmodel(img.reshape(1,3,32,32).type(torch.float32))\n",
        "  classification = torch.argmax(linear)\n",
        "  softmx = nn.Softmax()\n",
        "  pdist = softmx(linear)\n",
        "  confidence = pdist[0][label]\n",
        "  return classification, confidence,pdist "
      ],
      "metadata": {
        "id": "dnlcT8iDO-Zi"
      },
      "execution_count": null,
      "outputs": []
    },
    {
      "cell_type": "code",
      "source": [
        "cls,conf,pdist = report_pdist(alexModel,rimg,label)\n",
        "print(label)\n",
        "print(conf)\n",
        "print(pdist)"
      ],
      "metadata": {
        "id": "gtsw_CMcO-SK",
        "colab": {
          "base_uri": "https://localhost:8080/"
        },
        "outputId": "0347f45d-a019-4dc3-a4cf-68d5586b1e0a"
      },
      "execution_count": null,
      "outputs": [
        {
          "output_type": "stream",
          "name": "stdout",
          "text": [
            "4\n",
            "tensor(0.5310, grad_fn=<SelectBackward0>)\n",
            "tensor([[3.4404e-02, 1.8056e-04, 3.6438e-01, 2.5445e-02, 5.3096e-01, 6.2298e-03,\n",
            "         8.6579e-03, 1.2646e-03, 2.7872e-02, 6.1358e-04]],\n",
            "       grad_fn=<SoftmaxBackward0>)\n"
          ]
        },
        {
          "output_type": "stream",
          "name": "stderr",
          "text": [
            "/usr/local/lib/python3.7/dist-packages/ipykernel_launcher.py:6: UserWarning: Implicit dimension choice for softmax has been deprecated. Change the call to include dim=X as an argument.\n",
            "  \n"
          ]
        }
      ]
    },
    {
      "cell_type": "code",
      "source": [
        "cls,conf,pdist = report_pdist(alexModel,img_of_int,yTrain[label_of_int])\n",
        "print(conf,label)\n",
        "print(pdist)"
      ],
      "metadata": {
        "colab": {
          "base_uri": "https://localhost:8080/"
        },
        "id": "I9W79qPfXC26",
        "outputId": "b893f10f-8759-46e9-bb74-f67b9e849a35"
      },
      "execution_count": null,
      "outputs": [
        {
          "output_type": "stream",
          "name": "stdout",
          "text": [
            "tensor(0.3735, grad_fn=<SelectBackward0>) 4\n",
            "tensor([[1.5367e-02, 2.3134e-04, 3.7177e-01, 1.5221e-01, 3.7353e-01, 5.4282e-02,\n",
            "         1.0487e-02, 2.6722e-03, 1.8280e-02, 1.1703e-03]],\n",
            "       grad_fn=<SoftmaxBackward0>)\n"
          ]
        },
        {
          "output_type": "stream",
          "name": "stderr",
          "text": [
            "/usr/local/lib/python3.7/dist-packages/ipykernel_launcher.py:6: UserWarning: Implicit dimension choice for softmax has been deprecated. Change the call to include dim=X as an argument.\n",
            "  \n"
          ]
        }
      ]
    },
    {
      "cell_type": "markdown",
      "source": [
        "**STOCHASTIC MOVEMENT**"
      ],
      "metadata": {
        "id": "ualhANp2KuNU"
      }
    },
    {
      "cell_type": "code",
      "source": [
        "score_to_change = 10 #score to score movement starts here\n",
        "score_to_get = 9\n",
        "first_score = deepcopy(final_array_score[score_to_change])\n",
        "second_score = deepcopy(final_array_score[score_to_get])\n",
        "print(first_score.shape)"
      ],
      "metadata": {
        "colab": {
          "base_uri": "https://localhost:8080/"
        },
        "id": "b48sU-OZFlWV",
        "outputId": "94dc8735-18b2-4478-803c-a236759f8478"
      },
      "execution_count": null,
      "outputs": [
        {
          "output_type": "stream",
          "name": "stdout",
          "text": [
            "(217,)\n"
          ]
        }
      ]
    },
    {
      "cell_type": "code",
      "source": [
        "percent = 0.5\n",
        "new_first_score = first_score + (second_score- first_score)*percent"
      ],
      "metadata": {
        "id": "aNFlwh1DFlTr"
      },
      "execution_count": null,
      "outputs": []
    },
    {
      "cell_type": "code",
      "source": [
        "p_scores = deepcopy(final_array_score)\n",
        "p_scores[score_to_change] = new_first_score"
      ],
      "metadata": {
        "id": "vvhYQYY7FlRE"
      },
      "execution_count": null,
      "outputs": []
    },
    {
      "cell_type": "code",
      "source": [
        "p_recon = np.dot(p_scores, final_array_loadings)\n",
        "print(p_recon.shape)\n",
        "p_recon_blue = p_recon[:, :1024]\n",
        "p_recon_green = p_recon[:, 1024:2048]\n",
        "p_recon_red = p_recon[:, 2048:3072]\n",
        "\n",
        "p_recon_blue = np.reshape(p_recon_blue, (50000, 32,32))\n",
        "p_recon_green = np.reshape(p_recon_green, (50000, 32,32))\n",
        "p_recon_red = np.reshape(p_recon_red, (50000, 32,32))\n",
        "print(p_recon_blue.shape)\n",
        "\n",
        "\n",
        "p_array_to_show = np.stack((p_recon_blue, p_recon_green, p_recon_red), axis=3)\n",
        "\n",
        "p_array_to_show = (p_array_to_show*0.5+0.5)\n",
        "plt.subplot(131)\n",
        "plt.imshow(array_to_show[score_to_change])\n",
        "plt.subplot(132)\n",
        "plt.imshow(array_to_show[score_to_get])\n",
        "plt.subplot(133)\n",
        "plt.imshow(p_array_to_show[score_to_change])\n"
      ],
      "metadata": {
        "colab": {
          "base_uri": "https://localhost:8080/",
          "height": 221
        },
        "id": "pOOm58PsFlOM",
        "outputId": "83928e78-48d2-4db3-f42c-807b4b02bb42"
      },
      "execution_count": null,
      "outputs": [
        {
          "output_type": "stream",
          "name": "stdout",
          "text": [
            "(50000, 3072)\n",
            "(50000, 32, 32)\n"
          ]
        },
        {
          "output_type": "stream",
          "name": "stderr",
          "text": [
            "Clipping input data to the valid range for imshow with RGB data ([0..1] for floats or [0..255] for integers).\n"
          ]
        },
        {
          "output_type": "execute_result",
          "data": {
            "text/plain": [
              "<matplotlib.image.AxesImage at 0x7fb996b85450>"
            ]
          },
          "metadata": {},
          "execution_count": 77
        },
        {
          "output_type": "display_data",
          "data": {
            "image/png": "[encoded data removed]",
            "text/plain": [
              "<Figure size 432x288 with 3 Axes>"
            ]
          },
          "metadata": {
            "needs_background": "light"
          }
        }
      ]
    },
    {
      "cell_type": "code",
      "source": [
        "\"labels=\n",
        "array_to_show[labels==1]"
      ],
      "metadata": {
        "colab": {
          "base_uri": "https://localhost:8080/"
        },
        "id": "tfwVPFD0cupF",
        "outputId": "ad587761-a6eb-4d20-8f23-1c5e0b16dda8"
      },
      "execution_count": null,
      "outputs": [
        {
          "output_type": "execute_result",
          "data": {
            "text/plain": [
              "(32, 32, 3)"
            ]
          },
          "metadata": {},
          "execution_count": 102
        }
      ]
    },
    {
      "cell_type": "code",
      "source": [
        "blabla = array_to_show[np.array(yTrain)==1]\n",
        "avg = 0\n",
        "for index in range(blabla.shape[0]):\n",
        "  avg = avg + blabla[index]\n",
        "\n",
        "avg = avg/blabla.shape[0] "
      ],
      "metadata": {
        "id": "TlMKS1B9cump"
      },
      "execution_count": null,
      "outputs": []
    },
    {
      "cell_type": "code",
      "source": [
        "print(avg.shape)"
      ],
      "metadata": {
        "colab": {
          "base_uri": "https://localhost:8080/"
        },
        "id": "Gu8xzVz4cukH",
        "outputId": "53f1481b-bc40-4b5b-8479-b9c9603c7686"
      },
      "execution_count": null,
      "outputs": [
        {
          "output_type": "stream",
          "name": "stdout",
          "text": [
            "(32, 32, 3)\n"
          ]
        }
      ]
    },
    {
      "cell_type": "code",
      "source": [
        "p_scores = deepcopy(final_array_score)\n",
        "p_scores[score_to_change] = new_first_score"
      ],
      "metadata": {
        "id": "noKaO7bIcufY"
      },
      "execution_count": null,
      "outputs": []
    },
    {
      "cell_type": "code",
      "metadata": {
        "id": "lw2I52wOHB7y"
      },
      "source": [
        "blue_model = pca2(blue_images, 0.95)\n",
        "red_model = pca2(red_images, 0.95)\n",
        "green_model = pca2(green_images, 0.95)"
      ],
      "execution_count": null,
      "outputs": []
    },
    {
      "cell_type": "code",
      "metadata": {
        "colab": {
          "base_uri": "https://localhost:8080/"
        },
        "id": "sco6yorWHB5K",
        "outputId": "f81cc5b6-3fe5-47cb-a8fe-69550a67c6dc"
      },
      "source": [
        "blue_score = np.dot(blue_images,blue_model.components_.T)\n",
        "blue_loadings = blue_model.components_\n",
        "print(blue_loadings.shape)\n",
        "red_score = np.dot(red_images,red_model.components_.T)\n",
        "red_loadings = red_model.components_\n",
        "\n",
        "green_score = np.dot(green_images,green_model.components_.T)\n",
        "green_loadings = green_model.components_"
      ],
      "execution_count": null,
      "outputs": [
        {
          "output_type": "stream",
          "name": "stdout",
          "text": [
            "(157, 1024)\n"
          ]
        }
      ]
    },
    {
      "cell_type": "code",
      "metadata": {
        "id": "c69pXTyyHB2i"
      },
      "source": [
        "blue_recon = np.dot(blue_score,blue_loadings)\n",
        "red_recon = np.dot(red_score,red_loadings)\n",
        "green_recon = np.dot(green_score,green_loadings)"
      ],
      "execution_count": null,
      "outputs": []
    },
    {
      "cell_type": "code",
      "metadata": {
        "colab": {
          "base_uri": "https://localhost:8080/",
          "height": 392
        },
        "id": "_BD_0aznHBvh",
        "outputId": "51cf1e89-c2bb-4667-e0b1-57130c190e6f"
      },
      "source": [
        "blue_recon = np.reshape(blue_recon, (50000, 32,32))\n",
        "print(blue_recon.shape)\n",
        "\n",
        "red_recon = np.reshape(red_recon, (50000, 32,32))\n",
        "print(red_recon.shape)\n",
        "\n",
        "green_recon = np.reshape(green_recon, (50000, 32,32))\n",
        "print(green_recon.shape)\n",
        "\n",
        "\n",
        "final_arr = np.stack((blue_recon, green_recon, red_recon), axis= 3)\n",
        "print(final_arr.shape)\n",
        "final_arr = (final_arr*0.5+0.5)\n",
        "plt.imshow(final_arr[19])\n",
        "arr = final_arr[19]\n",
        "print(np.where(final_arr[19]<0))\n",
        "print(final_arr[19][23][25][0]) \n",
        "#print(final_arr[19])\n",
        "\n"
      ],
      "execution_count": null,
      "outputs": [
        {
          "output_type": "stream",
          "name": "stdout",
          "text": [
            "(50000, 32, 32)\n",
            "(50000, 32, 32)\n",
            "(50000, 32, 32)\n",
            "(50000, 32, 32, 3)\n"
          ]
        },
        {
          "output_type": "stream",
          "name": "stderr",
          "text": [
            "Clipping input data to the valid range for imshow with RGB data ([0..1] for floats or [0..255] for integers).\n"
          ]
        },
        {
          "output_type": "stream",
          "name": "stdout",
          "text": [
            "(array([23]), array([25]), array([0]))\n",
            "-0.0035470866235949305\n"
          ]
        },
        {
          "output_type": "display_data",
          "data": {
            "image/png": "[encoded data removed]",
            "text/plain": [
              "<Figure size 432x288 with 1 Axes>"
            ]
          },
          "metadata": {
            "needs_background": "light"
          }
        }
      ]
    },
    {
      "cell_type": "code",
      "metadata": {
        "colab": {
          "base_uri": "https://localhost:8080/",
          "height": 284
        },
        "id": "WyCKiQkuNgRY",
        "outputId": "6aa3a277-4cb1-4e8d-8022-51fb53686ab7"
      },
      "source": [
        "plt.imshow((xTrain[19]*0.5+0.5))\n",
        "#lt.imshow(trainData.data[19])"
      ],
      "execution_count": null,
      "outputs": [
        {
          "output_type": "execute_result",
          "data": {
            "text/plain": [
              "<matplotlib.image.AxesImage at 0x7f7affa57e90>"
            ]
          },
          "metadata": {},
          "execution_count": 13
        },
        {
          "output_type": "display_data",
          "data": {
            "image/png": "[encoded data removed]",
            "text/plain": [
              "<Figure size 432x288 with 1 Axes>"
            ]
          },
          "metadata": {
            "needs_background": "light"
          }
        }
      ]
    },
    {
      "cell_type": "code",
      "metadata": {
        "id": "ERp4tjQUP3Z2"
      },
      "source": [
        "from sklearn.cluster import KMeans\n"
      ],
      "execution_count": null,
      "outputs": []
    },
    {
      "cell_type": "code",
      "metadata": {
        "id": "j0B2M2sJP3Vg"
      },
      "source": [
        "kmeans = KMeans(n_clusters=10, random_state=0).fit(blue_score)\n",
        "kmeans_green = KMeans(n_clusters=10, random_state=0).fit(green_score)\n",
        "kmeans_red = KMeans(n_clusters=10, random_state=0).fit(red_score)\n",
        "\n"
      ],
      "execution_count": null,
      "outputs": []
    },
    {
      "cell_type": "code",
      "metadata": {
        "id": "ItAhdXU2P3TC"
      },
      "source": [
        "kmeans_blue_label = KMeans(n_clusters=10, random_state=0).fit_predict(blue_score)\n",
        "kmeans_green_label = KMeans(n_clusters=10, random_state=0).fit_predict(green_score)\n",
        "kmeans_red_label = KMeans(n_clusters=10, random_state=0).fit_predict(red_score)"
      ],
      "execution_count": null,
      "outputs": []
    },
    {
      "cell_type": "code",
      "metadata": {
        "id": "ZVH9OqKlP3Qv",
        "colab": {
          "base_uri": "https://localhost:8080/",
          "height": 320
        },
        "outputId": "894d7b2f-ed28-45b4-9d8c-1823ab706d62"
      },
      "source": [
        "first_centre_blue = kmeans.cluster_centers_[6]\n",
        "first_centre_red = kmeans_red.cluster_centers_[2]\n",
        "first_centre_green = kmeans_green.cluster_centers_[1]\n",
        "\n",
        "cen_blue_img = np.dot(first_centre_blue, blue_loadings)\n",
        "cen_red_img = np.dot(first_centre_red, red_loadings)\n",
        "cen_green_img = np.dot(first_centre_green, green_loadings)\n",
        "\n",
        "cen_blue_img = np.reshape(cen_blue_img, (32,32))\n",
        "cen_red_img = np.reshape(cen_red_img, (32,32))\n",
        "cen_green_img = np.reshape(cen_green_img, (32,32))\n",
        "\n",
        "print(cen_blue_img.shape)\n",
        "\n",
        "final_arr_recon = np.stack((cen_blue_img, cen_red_img, cen_green_img), axis= 2)\n",
        "\n",
        "plt.imshow(final_arr_recon)\n"
      ],
      "execution_count": null,
      "outputs": [
        {
          "output_type": "stream",
          "name": "stderr",
          "text": [
            "Clipping input data to the valid range for imshow with RGB data ([0..1] for floats or [0..255] for integers).\n"
          ]
        },
        {
          "output_type": "stream",
          "name": "stdout",
          "text": [
            "(32, 32)\n"
          ]
        },
        {
          "output_type": "execute_result",
          "data": {
            "text/plain": [
              "<matplotlib.image.AxesImage at 0x7f7af7382490>"
            ]
          },
          "metadata": {},
          "execution_count": 40
        },
        {
          "output_type": "display_data",
          "data": {
            "image/png": "[encoded data removed]",
            "text/plain": [
              "<Figure size 432x288 with 1 Axes>"
            ]
          },
          "metadata": {
            "needs_background": "light"
          }
        }
      ]
    }
  ]
}