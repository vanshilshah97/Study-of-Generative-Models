{
  "nbformat": 4,
  "nbformat_minor": 0,
  "metadata": {
    "accelerator": "GPU",
    "colab": {
      "name": "Final Project AutoEncoder",
      "provenance": [],
      "collapsed_sections": []
    },
    "kernelspec": {
      "display_name": "Python 3",
      "name": "python3"
    },
    "language_info": {
      "name": "python"
    }
  },
  "cells": [
    {
      "cell_type": "code",
      "metadata": {
        "colab": {
          "base_uri": "https://localhost:8080/"
        },
        "id": "UOIib0bkE6Vf",
        "outputId": "5be587d6-39fd-4b0c-ade7-124f9c04d225"
      },
      "source": [
        "from google.colab import drive\n",
        "drive.mount('/content/gdrive')\n",
        "PATH = '/content/gdrive/MyDrive/CIS520_models/AE_CIFAR10.pt'"
      ],
      "execution_count": null,
      "outputs": [
        {
          "output_type": "stream",
          "name": "stdout",
          "text": [
            "Drive already mounted at /content/gdrive; to attempt to forcibly remount, call drive.mount(\"/content/gdrive\", force_remount=True).\n"
          ]
        }
      ]
    },
    {
      "cell_type": "code",
      "metadata": {
        "id": "Rg3Y5k5FEBXj"
      },
      "source": [
        "import torch\n",
        "import torchvision\n",
        "import torchvision.transforms as transforms\n",
        "import torch.nn as nn\n",
        "import numpy as np\n",
        "import matplotlib.pyplot as plt\n",
        "from copy import deepcopy\n",
        "import math\n"
      ],
      "execution_count": null,
      "outputs": []
    },
    {
      "cell_type": "code",
      "metadata": {
        "colab": {
          "base_uri": "https://localhost:8080/"
        },
        "id": "UXhc7ZW0GjQP",
        "outputId": "11572e72-9dbd-4f23-ea30-25f713c8001a"
      },
      "source": [
        "transform = transforms.Compose(\n",
        "    [transforms.ToTensor(),\n",
        "     transforms.Normalize((0.5, 0.5,0.5), (0.5, 0.5,0.5))])\n",
        "\n",
        "trainset = torchvision.datasets.CIFAR10(root='./data', train=True,\n",
        "                                        download=True, transform=transform)\n",
        "trainloader = torch.utils.data.DataLoader(trainset, batch_size=64,\n",
        "                                          shuffle=True)\n",
        "\n",
        "testset = torchvision.datasets.CIFAR10(root='./data', train=False,\n",
        "                                       download=True, transform=transform)\n",
        "testloader = torch.utils.data.DataLoader(testset, batch_size=64,\n",
        "                                         shuffle=False)\n",
        "\n",
        "classes = ('plane', 'car', 'bird', 'cat',\n",
        "           'deer', 'dog', 'frog', 'horse', 'ship', 'truck')\n",
        "cuda = torch.device('cuda')"
      ],
      "execution_count": null,
      "outputs": [
        {
          "output_type": "stream",
          "name": "stdout",
          "text": [
            "Files already downloaded and verified\n",
            "Files already downloaded and verified\n"
          ]
        }
      ]
    },
    {
      "cell_type": "code",
      "metadata": {
        "id": "b3GTZ1RLGq7-"
      },
      "source": [
        "class autoencoder(nn.Module):\n",
        "    def __init__(self):\n",
        "        super(autoencoder,self).__init__()\n",
        "        self.encoder = nn.Sequential(\n",
        "                nn.Conv2d(3,12,4,stride=2,padding=1),\n",
        "                nn.ReLU(),\n",
        "                nn.Conv2d(12,24,4,stride=2,padding=1),\n",
        "                nn.ReLU(),\n",
        "                nn.Conv2d(24,48,4,stride=2,padding=1),\n",
        "                nn.ReLU()\n",
        "            )\n",
        "        self.visualize = nn.Linear(48*4*4,2) #To visualize 2D loadings\n",
        "        self.decoder = nn.Sequential(\n",
        "                nn.ConvTranspose2d(48,24,4,stride=2,padding=1),\n",
        "                nn.ReLU(),\n",
        "                nn.ConvTranspose2d(24,12,4,stride=2,padding=1),\n",
        "                nn.ReLU(),\n",
        "                nn.ConvTranspose2d(12,3,4,stride=2,padding=1),\n",
        "                nn.Tanh()\n",
        "            )\n",
        "\n",
        "    def forward(self,img):\n",
        "        encoded = self.encoder(img)\n",
        "        decoded = self.decoder(encoded)\n",
        "        return encoded,decoded\n"
      ],
      "execution_count": null,
      "outputs": []
    },
    {
      "cell_type": "code",
      "metadata": {
        "id": "tZ0Puat4H5U4"
      },
      "source": [
        "#Train loop\n",
        "epochs = 100\n",
        "model = autoencoder().cuda()\n",
        "criterion = nn.MSELoss()\n",
        "optimizer = torch.optim.Adam(model.parameters(),lr=0.01)"
      ],
      "execution_count": null,
      "outputs": []
    },
    {
      "cell_type": "code",
      "metadata": {
        "colab": {
          "base_uri": "https://localhost:8080/"
        },
        "id": "eJKRx55gQ_jZ",
        "outputId": "9c4244e0-f21e-4186-9003-5e275f4fb844"
      },
      "source": [
        "trainloss = []\n",
        "valLoss = []\n",
        "for epoch in range(epochs):\n",
        "    runloss = 0.0\n",
        "    for idx,(img,_) in enumerate(trainloader):\n",
        "        img = img.cuda()\n",
        "        encoded,outputs = model.forward(img)\n",
        "        loss = criterion(outputs,img)\n",
        "        optimizer.zero_grad()\n",
        "        loss.backward()\n",
        "        optimizer.step()\n",
        "        runloss += loss.item()\n",
        "    runvalLoss = 0.0 \n",
        "    for vIdx,(vImg,_) in enumerate(testloader):\n",
        "        vImg = vImg.cuda()\n",
        "        vEncoded,vOutputs = model.forward(vImg)\n",
        "        vLoss = criterion(vOutputs,vImg)\n",
        "        runvalLoss += vLoss.item()\n",
        "    if((epoch+1)%10 ==0):\n",
        "        print('Epoch: [{}/{}],trainBatchLoss: {:4f},valLoss: {:.4f}'.format(epoch+1,epochs,runloss/len(trainloader),runvalLoss/len(testloader)))\n",
        "    trainloss.append(runloss/len(trainloader))\n",
        "    valLoss.append(runvalLoss/len(testloader))"
      ],
      "execution_count": null,
      "outputs": [
        {
          "output_type": "stream",
          "name": "stdout",
          "text": [
            "Epoch: [10/100],trainBatchLoss: 0.011553,valLoss: 0.0100\n",
            "Epoch: [20/100],trainBatchLoss: 0.010479,valLoss: 0.0094\n",
            "Epoch: [30/100],trainBatchLoss: 0.009947,valLoss: 0.0094\n",
            "Epoch: [40/100],trainBatchLoss: 0.009616,valLoss: 0.0090\n",
            "Epoch: [50/100],trainBatchLoss: 0.009593,valLoss: 0.0098\n",
            "Epoch: [60/100],trainBatchLoss: 0.009769,valLoss: 0.0088\n",
            "Epoch: [70/100],trainBatchLoss: 0.009507,valLoss: 0.0092\n",
            "Epoch: [80/100],trainBatchLoss: 0.009554,valLoss: 0.0084\n",
            "Epoch: [90/100],trainBatchLoss: 0.009604,valLoss: 0.0091\n",
            "Epoch: [100/100],trainBatchLoss: 0.009553,valLoss: 0.0090\n"
          ]
        }
      ]
    },
    {
      "cell_type": "code",
      "metadata": {
        "colab": {
          "base_uri": "https://localhost:8080/",
          "height": 279
        },
        "id": "0XukTyupTkiL",
        "outputId": "1e03bdc5-1b05-40f5-ffe1-9b49566a0d5b"
      },
      "source": [
        "import matplotlib.pyplot as plt\n",
        "plt.plot(trainloss,label='TrainLoss')\n",
        "plt.plot(valLoss,label='valLoss')\n",
        "plt.xlabel('Epochs')\n",
        "plt.ylabel('avgBatchLoss')\n",
        "plt.legend()\n",
        "plt.show()"
      ],
      "execution_count": null,
      "outputs": [
        {
          "output_type": "display_data",
          "data": {
            "image/png": "[encoded data removed]",
            "text/plain": [
              "<Figure size 432x288 with 1 Axes>"
            ]
          },
          "metadata": {
            "needs_background": "light"
          }
        }
      ]
    },
    {
      "cell_type": "code",
      "metadata": {
        "id": "ZUaQ7IMsSkv3"
      },
      "source": [
        "torch.save(model.state_dict(), PATH)"
      ],
      "execution_count": null,
      "outputs": []
    },
    {
      "cell_type": "code",
      "metadata": {
        "id": "tjZs6CMQFhwn"
      },
      "source": [
        "def plot_img_recons(idx,trainset,model):\n",
        "    img = trainset[idx][0]\n",
        "    \n",
        "    encoded,decoded = model.forward(img.view(1,3,32,32).cuda())\n",
        "    decoded = decoded.squeeze()\n",
        "    red_decoded = decoded[0].detach().cpu().numpy()\n",
        "    blue_decoded = decoded[1].detach().cpu().numpy()\n",
        "    green_decoded = decoded[2].detach().cpu().numpy()\n",
        "    recon_img = np.stack((red_decoded,blue_decoded,green_decoded),axis=2)\n",
        "    \n",
        "    noisy_encoded = encoded.detach().cpu() +np.random.uniform(0,0.5,encoded.shape)\n",
        "    noisy_decoded = model.decoder(noisy_encoded.type(torch.float).cuda())\n",
        "    noisy_decoded = noisy_decoded.squeeze()\n",
        "    noisy_red_decoded = noisy_decoded[0].detach().cpu().numpy()\n",
        "    noisy_blue_decoded = noisy_decoded[1].detach().cpu().numpy()\n",
        "    noisy_green_decoded = noisy_decoded[2].detach().cpu().numpy()\n",
        "    perturbed_img = np.stack((noisy_red_decoded,noisy_blue_decoded,noisy_green_decoded),axis=2)\n",
        "\n",
        "\n",
        "    f = plt.figure(figsize=(15,5))\n",
        "    ax1 = f.add_subplot(131)\n",
        "    ax2 = f.add_subplot(132)\n",
        "    ax3 = f.add_subplot(133)\n",
        "    ax1.imshow(trainset.data[idx]/255)\n",
        "    ax2.imshow(recon_img*0.5 + 0.5)\n",
        "    ax3.imshow(perturbed_img*0.5 + 0.5)\n",
        "    print(classes[trainset.targets[idx]])"
      ],
      "execution_count": null,
      "outputs": []
    },
    {
      "cell_type": "code",
      "metadata": {
        "id": "y-ASweTVeDrK",
        "colab": {
          "base_uri": "https://localhost:8080/",
          "height": 311
        },
        "outputId": "88e7a448-ef49-4734-991b-c678ebef2753"
      },
      "source": [
        "plot_img_recons(12,trainset,model.cuda())"
      ],
      "execution_count": null,
      "outputs": [
        {
          "output_type": "stream",
          "name": "stdout",
          "text": [
            "horse\n"
          ]
        },
        {
          "output_type": "display_data",
          "data": {
            "image/png": "[encoded data removed]",
            "text/plain": [
              "<Figure size 1080x360 with 3 Axes>"
            ]
          },
          "metadata": {
            "needs_background": "light"
          }
        }
      ]
    },
    {
      "cell_type": "code",
      "metadata": {
        "id": "ya7RLzoorTnm",
        "outputId": "12df5338-4dc4-4c9d-c6aa-a3080d054cbf",
        "colab": {
          "base_uri": "https://localhost:8080/"
        }
      },
      "source": [
        "model = autoencoder()\n",
        "#model.load_state_dict(torch.load('AE_CIFAR10.pt'))\n",
        "model.load_state_dict(torch.load(PATH))"
      ],
      "execution_count": null,
      "outputs": [
        {
          "output_type": "execute_result",
          "data": {
            "text/plain": [
              "<All keys matched successfully>"
            ]
          },
          "metadata": {},
          "execution_count": 256
        }
      ]
    },
    {
      "cell_type": "markdown",
      "source": [
        "**ALEXNET INFEERENCE**"
      ],
      "metadata": {
        "id": "Km5o_hOdJUtZ"
      }
    },
    {
      "cell_type": "code",
      "source": [
        "PATHDense = '/content/gdrive/MyDrive/CIS520_models/model_best.pth.tar'"
      ],
      "metadata": {
        "id": "qZJkvAzrozWy"
      },
      "execution_count": null,
      "outputs": []
    },
    {
      "cell_type": "code",
      "source": [
        "\n",
        "__all__ = ['alexnet']\n",
        "\n",
        "class AlexNet(nn.Module):\n",
        "\n",
        "    def __init__(self, num_classes=10):\n",
        "        super(AlexNet, self).__init__()\n",
        "        self.features = nn.Sequential(\n",
        "            nn.Conv2d(3, 64, kernel_size=11, stride=4, padding=5),\n",
        "            nn.ReLU(inplace=True),\n",
        "            nn.MaxPool2d(kernel_size=2, stride=2),\n",
        "            nn.Conv2d(64, 192, kernel_size=5, padding=2),\n",
        "            nn.ReLU(inplace=True),\n",
        "            nn.MaxPool2d(kernel_size=2, stride=2),\n",
        "            nn.Conv2d(192, 384, kernel_size=3, padding=1),\n",
        "            nn.ReLU(inplace=True),\n",
        "            nn.Conv2d(384, 256, kernel_size=3, padding=1),\n",
        "            nn.ReLU(inplace=True),\n",
        "            nn.Conv2d(256, 256, kernel_size=3, padding=1),\n",
        "            nn.ReLU(inplace=True),\n",
        "            nn.MaxPool2d(kernel_size=2, stride=2),\n",
        "        )\n",
        "        self.classifier = nn.Linear(256, num_classes)\n",
        "\n",
        "    def forward(self, x):\n",
        "        x = self.features(x)\n",
        "        x = x.view(x.size(0), -1)\n",
        "        x = self.classifier(x)\n",
        "        return x\n",
        "\n",
        "\n",
        "def alexnet(**kwargs):\n",
        "    r\"\"\"AlexNet model architecture from the\n",
        "    `\"One weird trick...\" <https://arxiv.org/abs/1404.5997>`_ paper.\n",
        "    \"\"\"\n",
        "    model = AlexNet(**kwargs)\n",
        "    return model"
      ],
      "metadata": {
        "id": "a7224Hq2ozUG"
      },
      "execution_count": null,
      "outputs": []
    },
    {
      "cell_type": "code",
      "source": [
        "alexModel = AlexNet()\n",
        "# original saved file with DataParallel\n",
        "checkpoint = torch.load(PATHDense)\n",
        "state_dict = checkpoint['state_dict']\n",
        "# create new OrderedDict that does not contain `module.`\n",
        "from collections import OrderedDict\n",
        "new_state_dict = OrderedDict()\n",
        "for k, v in state_dict.items():\n",
        "    if k==\"classifier.weight\" or k==\"classifier.bias\":\n",
        "      name = k\n",
        "    else:\n",
        "      name = k[:8]+k[15:] # remove `module.`\n",
        "    new_state_dict[name] = v\n",
        "# load params\n",
        "alexModel.load_state_dict(new_state_dict)"
      ],
      "metadata": {
        "colab": {
          "base_uri": "https://localhost:8080/"
        },
        "id": "kzP8kjM7ozRt",
        "outputId": "52a7ba06-1278-4036-f0cf-1cf4a498ec57"
      },
      "execution_count": null,
      "outputs": [
        {
          "output_type": "execute_result",
          "data": {
            "text/plain": [
              "<All keys matched successfully>"
            ]
          },
          "metadata": {},
          "execution_count": 279
        }
      ]
    },
    {
      "cell_type": "code",
      "source": [
        "def show_img(idx,trainset):\n",
        "    img = trainset[idx][0]\n",
        "    plt.imshow(trainset.data[idx]/255)\n",
        "def show_pimg(noisy_decoded):\n",
        "    noisy_red_decoded = noisy_decoded[0].detach().cpu().numpy()\n",
        "    noisy_blue_decoded = noisy_decoded[1].detach().cpu().numpy()\n",
        "    noisy_green_decoded = noisy_decoded[2].detach().cpu().numpy()\n",
        "    perturbed_img = np.stack((noisy_red_decoded,noisy_blue_decoded,noisy_green_decoded),axis=2)\n",
        "    plt.imshow(perturbed_img)"
      ],
      "metadata": {
        "id": "7la4EYucozMd"
      },
      "execution_count": null,
      "outputs": []
    },
    {
      "cell_type": "code",
      "source": [
        "def report_pdist(alexmodel,trainset,idx):\n",
        "  img = trainset[idx][0]\n",
        "  print(trainset[idx][1])\n",
        "  linear = alexmodel(img.view(1,3,32,32))\n",
        "  classification = torch.argmax(linear)\n",
        "  softmx = nn.Softmax()\n",
        "  pdist = softmx(linear)\n",
        "  confidence = pdist[0][trainset[idx][1]]\n",
        "  return classification, confidence,pdist "
      ],
      "metadata": {
        "id": "8j3RI5NYozHL"
      },
      "execution_count": null,
      "outputs": []
    },
    {
      "cell_type": "code",
      "source": [
        "idx = np.random.randint(0,50000)\n",
        "a,b,c = report_pdist(alexModel,trainset,idx)"
      ],
      "metadata": {
        "colab": {
          "base_uri": "https://localhost:8080/"
        },
        "id": "MCPJ9ajurl8r",
        "outputId": "fb150f4d-f4e0-44b3-8d60-5ed387cb8f6d"
      },
      "execution_count": null,
      "outputs": [
        {
          "output_type": "stream",
          "name": "stdout",
          "text": [
            "4\n"
          ]
        },
        {
          "output_type": "stream",
          "name": "stderr",
          "text": [
            "/usr/local/lib/python3.7/dist-packages/ipykernel_launcher.py:7: UserWarning: Implicit dimension choice for softmax has been deprecated. Change the call to include dim=X as an argument.\n",
            "  import sys\n"
          ]
        }
      ]
    },
    {
      "cell_type": "code",
      "source": [
        "show_img(idx,trainset)"
      ],
      "metadata": {
        "colab": {
          "base_uri": "https://localhost:8080/",
          "height": 266
        },
        "id": "eQj8S337uGut",
        "outputId": "b4cbf87b-4f9a-47b2-a8d2-68a2c115b568"
      },
      "execution_count": null,
      "outputs": [
        {
          "output_type": "display_data",
          "data": {
            "image/png": "[encoded data removed]",
            "text/plain": [
              "<Figure size 432x288 with 1 Axes>"
            ]
          },
          "metadata": {
            "needs_background": "light"
          }
        }
      ]
    },
    {
      "cell_type": "code",
      "source": [
        "print(c[0][trainset[idx][1]])\n",
        "print(c)"
      ],
      "metadata": {
        "colab": {
          "base_uri": "https://localhost:8080/"
        },
        "id": "mds9TBwos4g8",
        "outputId": "82ef627d-d220-4e89-c3bf-37ee13c61447"
      },
      "execution_count": null,
      "outputs": [
        {
          "output_type": "stream",
          "name": "stdout",
          "text": [
            "tensor(0.9014, grad_fn=<SelectBackward0>)\n",
            "tensor([[6.1385e-04, 1.8127e-05, 8.7329e-02, 4.2055e-03, 9.0141e-01, 3.0347e-03,\n",
            "         2.5351e-03, 6.5337e-04, 1.6306e-04, 3.5350e-05]],\n",
            "       grad_fn=<SoftmaxBackward0>)\n"
          ]
        }
      ]
    },
    {
      "cell_type": "code",
      "source": [
        "def report_pdist(alexmodel,img,label):\n",
        "#   img = trainset[idx][0]\n",
        "#   print(trainset[idx][1])\n",
        "  linear = alexmodel(img.view((1,3,32,32)))\n",
        "  classification = torch.argmax(linear)\n",
        "  softmx = nn.Softmax()\n",
        "  pdist = softmx(linear)\n",
        "  confidence = pdist[0][label]\n",
        "  return classification, confidence,pdist "
      ],
      "metadata": {
        "id": "7xZo8OSPuVBr"
      },
      "execution_count": null,
      "outputs": []
    },
    {
      "cell_type": "code",
      "source": [
        "def random_perturbation(idx,trainset,model,mean=False,stochastic=False):\n",
        "    img = trainset[idx][0]\n",
        "    encoded,decoded = model.forward(img.view(1,3,32,32).cuda())\n",
        "    noisy_encoded = encoded.detach().cpu() +np.random.uniform(0,0.05,encoded.shape)\n",
        "    noisy_decoded = model.decoder(noisy_encoded.type(torch.float).cuda())\n",
        "    noisy_decoded = noisy_decoded.squeeze()\n",
        "    noisy_red_decoded = noisy_decoded[0].detach().cpu().numpy()\n",
        "    noisy_blue_decoded = noisy_decoded[1].detach().cpu().numpy()\n",
        "    noisy_green_decoded = noisy_decoded[2].detach().cpu().numpy()\n",
        "    perturbed_img = np.stack((noisy_red_decoded,noisy_blue_decoded,noisy_green_decoded),axis=2)\n",
        "    return perturbed_img,trainset[idx][1]\n"
      ],
      "metadata": {
        "id": "nwkt3y3BuU-x"
      },
      "execution_count": null,
      "outputs": []
    },
    {
      "cell_type": "code",
      "source": [
        "idx =np.random.randint(0,50000)\n",
        "pimg,label = random_perturbation(idx,trainset,model)\n",
        "pimg = torch.from_numpy(pimg)\n",
        "cl,conf,pdist = report_pdist(alexModel,pimg,label)"
      ],
      "metadata": {
        "colab": {
          "base_uri": "https://localhost:8080/"
        },
        "id": "1bmYzx0-3azL",
        "outputId": "4ff9b211-28ed-428b-bd59-e998a44ec607"
      },
      "execution_count": null,
      "outputs": [
        {
          "output_type": "stream",
          "name": "stderr",
          "text": [
            "/usr/local/lib/python3.7/dist-packages/ipykernel_launcher.py:7: UserWarning: Implicit dimension choice for softmax has been deprecated. Change the call to include dim=X as an argument.\n",
            "  import sys\n"
          ]
        }
      ]
    },
    {
      "cell_type": "code",
      "source": [
        "plt.imshow(pimg*0.5+0.5)"
      ],
      "metadata": {
        "colab": {
          "base_uri": "https://localhost:8080/",
          "height": 283
        },
        "id": "2KU9a9ce40Sa",
        "outputId": "c6614dd8-2b8d-44bb-b8ce-915b7548ef2f"
      },
      "execution_count": null,
      "outputs": [
        {
          "output_type": "execute_result",
          "data": {
            "text/plain": [
              "<matplotlib.image.AxesImage at 0x7fe065d7f310>"
            ]
          },
          "metadata": {},
          "execution_count": 193
        },
        {
          "output_type": "display_data",
          "data": {
            "image/png": "[encoded data removed]",
            "text/plain": [
              "<Figure size 432x288 with 1 Axes>"
            ]
          },
          "metadata": {
            "needs_background": "light"
          }
        }
      ]
    },
    {
      "cell_type": "code",
      "source": [
        "print(conf,label)\n",
        "print(pdist)"
      ],
      "metadata": {
        "colab": {
          "base_uri": "https://localhost:8080/"
        },
        "id": "2p1gpTQI4N0j",
        "outputId": "f453340b-1ea6-47a2-e13b-b27330cc7cab"
      },
      "execution_count": null,
      "outputs": [
        {
          "output_type": "stream",
          "name": "stdout",
          "text": [
            "tensor(0.7316, grad_fn=<SelectBackward0>) 4\n",
            "tensor([[0.0501, 0.0008, 0.0498, 0.0544, 0.7316, 0.0046, 0.0266, 0.0023, 0.0708,\n",
            "         0.0089]], grad_fn=<SoftmaxBackward0>)\n"
          ]
        }
      ]
    },
    {
      "cell_type": "code",
      "source": [
        ""
      ],
      "metadata": {
        "id": "F5DloQpsuUoa"
      },
      "execution_count": null,
      "outputs": []
    },
    {
      "cell_type": "markdown",
      "source": [
        "\n",
        "**STOCHASTIC MOVEMENT**"
      ],
      "metadata": {
        "id": "hhu1kM79JMKy"
      }
    },
    {
      "cell_type": "code",
      "source": [
        "trainloader = torch.utils.data.DataLoader(trainset, batch_size=1,shuffle=True)"
      ],
      "metadata": {
        "id": "gKRP3L44VUCM"
      },
      "execution_count": null,
      "outputs": []
    },
    {
      "cell_type": "code",
      "source": [
        "array = next(iter(trainloader))[0].numpy()"
      ],
      "metadata": {
        "id": "EX-08k8-V-Pd"
      },
      "execution_count": null,
      "outputs": []
    },
    {
      "cell_type": "code",
      "source": [
        "img_data = []\n",
        "label_data = []\n",
        "count = 0\n",
        "for img,label in trainloader:\n",
        "  #print(img,label)\n",
        "  in_img = img.numpy()\n",
        "  img_data.append(img)\n",
        "  in_label = label.numpy()\n",
        "  label_data.append(in_label)\n",
        "  #print(in_img.shape)\n",
        "  #print(in_label)\n",
        "  count += 1\n",
        "  if count == 10000:\n",
        "    break\n",
        "\n",
        "# img_data = np.array(img_data)  \n",
        "# label_data = np.array(label_data)  "
      ],
      "metadata": {
        "id": "fXlioJl5bNUm"
      },
      "execution_count": null,
      "outputs": []
    },
    {
      "cell_type": "code",
      "source": [
        "score_arr = []\n",
        "\n",
        "for images in img_data:\n",
        "  encode, decode = model.forward(images)\n",
        "  score_arr.append(encode.detach().numpy())"
      ],
      "metadata": {
        "id": "n32gVSu3bhDl"
      },
      "execution_count": null,
      "outputs": []
    },
    {
      "cell_type": "code",
      "source": [
        "score_arr = np.array(score_arr)\n",
        "print(np.array(score_arr).shape)"
      ],
      "metadata": {
        "colab": {
          "base_uri": "https://localhost:8080/"
        },
        "id": "29NQDhpycpp9",
        "outputId": "7f46ef2a-4ec4-4802-e37d-00f59972af85"
      },
      "execution_count": null,
      "outputs": [
        {
          "output_type": "stream",
          "name": "stdout",
          "text": [
            "(10000, 1, 48, 4, 4)\n"
          ]
        }
      ]
    },
    {
      "cell_type": "code",
      "source": [
        "from copy import deepcopy\n",
        "from matplotlib import pyplot as plt"
      ],
      "metadata": {
        "id": "nlGZArLYgGo0"
      },
      "execution_count": null,
      "outputs": []
    },
    {
      "cell_type": "code",
      "source": [
        "index_1 = 80\n",
        "index_2 = 500\n",
        "score_1 = deepcopy(score_arr[index_1])\n",
        "score_2 = deepcopy(score_arr[index_2])\n",
        "print(classes[label_data[index_1][0]])\n",
        "print(classes[label_data[index_2][0]])\n",
        "new_score_1 = score_1 + (score_2-score_1)*0.5\n",
        "print(new_score_1.shape)\n",
        "tensor_new_score = torch.from_numpy(new_score_1)\n",
        "decode_img_3(score_1, score_2, new_score_1)"
      ],
      "metadata": {
        "colab": {
          "base_uri": "https://localhost:8080/",
          "height": 203
        },
        "id": "nHhLSU5Nfq6Q",
        "outputId": "67600f9a-b681-48ae-e6fc-47388288bdbd"
      },
      "execution_count": null,
      "outputs": [
        {
          "output_type": "stream",
          "name": "stdout",
          "text": [
            "truck\n",
            "cat\n",
            "(1, 48, 4, 4)\n"
          ]
        },
        {
          "output_type": "display_data",
          "data": {
            "image/png": "[encoded data removed]",
            "text/plain": [
              "<Figure size 432x288 with 3 Axes>"
            ]
          },
          "metadata": {
            "needs_background": "light"
          }
        }
      ]
    },
    {
      "cell_type": "code",
      "source": [
        "new_image = model.decoder(tensor_new_score)\n",
        "new_image = new_image.squeeze()\n",
        "red_decoded = new_image[0].detach().cpu().numpy()\n",
        "blue_decoded = new_image[1].detach().cpu().numpy()\n",
        "green_decoded = new_image[2].detach().cpu().numpy()\n",
        "recon_img = np.stack((red_decoded,blue_decoded,green_decoded),axis=2)\n",
        "recon_img = recon_img*0.5+0.5\n",
        "plt.imshow(recon_img)"
      ],
      "metadata": {
        "colab": {
          "base_uri": "https://localhost:8080/",
          "height": 284
        },
        "id": "-ynXTIU0gZ56",
        "outputId": "c847e8d5-1529-47c6-bc9f-646f4043a136"
      },
      "execution_count": null,
      "outputs": [
        {
          "output_type": "execute_result",
          "data": {
            "text/plain": [
              "<matplotlib.image.AxesImage at 0x7febc6515ed0>"
            ]
          },
          "metadata": {},
          "execution_count": 114
        },
        {
          "output_type": "display_data",
          "data": {
            "image/png": "[encoded data removed]",
            "text/plain": [
              "<Figure size 432x288 with 1 Axes>"
            ]
          },
          "metadata": {
            "needs_background": "light"
          }
        }
      ]
    },
    {
      "cell_type": "code",
      "source": [
        "class_of_int = 1\n",
        "print(\"class\")\n",
        "print(classes[class_of_int])\n",
        "score_arr_int = deepcopy(score_arr)\n",
        "print(score_arr_int.shape)\n",
        "labels = deepcopy(label_data)\n",
        "labels = np.reshape(labels, len(labels))\n",
        "print(labels.shape)\n",
        "arr_of_int = score_arr_int[np.where(labels==class_of_int)]\n",
        "print(arr_of_int.shape)\n"
      ],
      "metadata": {
        "id": "X0CGE35rhhuQ",
        "colab": {
          "base_uri": "https://localhost:8080/"
        },
        "outputId": "70dae4c3-8ec9-4f65-f500-143add0547d3"
      },
      "execution_count": null,
      "outputs": [
        {
          "output_type": "stream",
          "name": "stdout",
          "text": [
            "class\n",
            "car\n",
            "(10000, 1, 48, 4, 4)\n",
            "(10000,)\n",
            "(1001, 1, 48, 4, 4)\n"
          ]
        }
      ]
    },
    {
      "cell_type": "code",
      "source": [
        "avg = 0.0\n",
        "for blabla in range(arr_of_int.shape[0]):\n",
        "  avg = arr_of_int[blabla] + avg\n",
        "\n",
        "avg = avg/arr_of_int.shape[0]\n",
        "\n",
        "print(avg.shape)\n",
        "avg_tensor = torch.from_numpy(avg)\n"
      ],
      "metadata": {
        "colab": {
          "base_uri": "https://localhost:8080/"
        },
        "id": "NYbDMSqZGLRo",
        "outputId": "b2d66b22-3252-44fe-bb69-79679af473cc"
      },
      "execution_count": null,
      "outputs": [
        {
          "output_type": "stream",
          "name": "stdout",
          "text": [
            "(1, 48, 4, 4)\n"
          ]
        }
      ]
    },
    {
      "cell_type": "code",
      "source": [
        "def decode_img(nmpy_arr_of_score):\n",
        "  tensor_from_arr = torch.from_numpy(nmpy_arr_of_score)\n",
        "  avg_image = model.decoder(tensor_from_arr)\n",
        "  avg_image = avg_image.squeeze()\n",
        "  red_avg = avg_image[0].detach().cpu().numpy()\n",
        "  blue_avg = avg_image[1].detach().cpu().numpy()\n",
        "  green_avg = avg_image[2].detach().cpu().numpy()\n",
        "  recon_avg = np.stack((red_avg,blue_avg,green_avg),axis=2)\n",
        "  recon_avg = recon_avg*0.5+0.5\n",
        "  plt.imshow(recon_avg)"
      ],
      "metadata": {
        "id": "xFbEutetKk3t"
      },
      "execution_count": null,
      "outputs": []
    },
    {
      "cell_type": "code",
      "source": [
        "def decode_img_3(nmpy_arr_of_score1, nmpy_arr_of_score2, nmpy_arr_of_score3):\n",
        "  ar = [nmpy_arr_of_score1, nmpy_arr_of_score2, nmpy_arr_of_score3]\n",
        "  \n",
        "  for idx, img in enumerate(ar):\n",
        "    tensor_from_arr = torch.from_numpy(img)\n",
        "    avg_image = model.decoder(tensor_from_arr)\n",
        "    avg_image = avg_image.squeeze()\n",
        "    red_avg = avg_image[0].detach().cpu().numpy()\n",
        "    blue_avg = avg_image[1].detach().cpu().numpy()\n",
        "    green_avg = avg_image[2].detach().cpu().numpy()\n",
        "    recon_avg = np.stack((red_avg,blue_avg,green_avg),axis=2)\n",
        "    recon_avg = recon_avg*0.5+0.5\n",
        "    plt.subplot(1,3,idx+1)\n",
        "    plt.imshow(recon_avg)"
      ],
      "metadata": {
        "id": "2YHKrQfoPsXA"
      },
      "execution_count": null,
      "outputs": []
    },
    {
      "cell_type": "code",
      "source": [
        "# avg_image = model.decoder(avg_tensor)\n",
        "# avg_image = avg_image.squeeze()\n",
        "# red_avg = avg_image[0].detach().cpu().numpy()\n",
        "# blue_avg = avg_image[1].detach().cpu().numpy()\n",
        "# green_avg = avg_image[2].detach().cpu().numpy()\n",
        "# recon_avg = np.stack((red_avg,blue_avg,green_avg),axis=2)\n",
        "# recon_avg = recon_avg*0.5+0.5\n",
        "# plt.imshow(recon_avg)\n",
        "\n",
        "decode_img(avg)"
      ],
      "metadata": {
        "colab": {
          "base_uri": "https://localhost:8080/",
          "height": 266
        },
        "id": "aOnJaAnSJqzd",
        "outputId": "adeba7e7-1d1e-4ccf-a5db-f19a988a7856"
      },
      "execution_count": null,
      "outputs": [
        {
          "output_type": "display_data",
          "data": {
            "image/png": "[encoded data removed]",
            "text/plain": [
              "<Figure size 432x288 with 1 Axes>"
            ]
          },
          "metadata": {
            "needs_background": "light"
          }
        }
      ]
    },
    {
      "cell_type": "code",
      "source": [
        "#MOVING TOWARDS THE CLUSTER_CENTRE\n",
        "score_to_move = deepcopy(avg)\n",
        "arr_of_class = deepcopy(arr_of_int)\n",
        "score_original = arr_of_class[0]\n",
        "\n",
        "moved_score = score_original + (score_to_move-score_original)*0.8\n",
        "\n",
        "\n"
      ],
      "metadata": {
        "id": "TOrIDGIAKfuD"
      },
      "execution_count": null,
      "outputs": []
    },
    {
      "cell_type": "code",
      "source": [
        "decode_img_3(score_original, score_to_move, moved_score)"
      ],
      "metadata": {
        "colab": {
          "base_uri": "https://localhost:8080/",
          "height": 149
        },
        "id": "1yORrKLmPa0-",
        "outputId": "2cdcf971-0a6e-48a5-fbda-c2da6a4fab13"
      },
      "execution_count": null,
      "outputs": [
        {
          "output_type": "display_data",
          "data": {
            "image/png": "[encoded data removed]",
            "text/plain": [
              "<Figure size 432x288 with 3 Axes>"
            ]
          },
          "metadata": {
            "needs_background": "light"
          }
        }
      ]
    },
    {
      "cell_type": "code",
      "source": [
        "\n",
        "print(\"original_image\")\n",
        "decode_img(score_original)"
      ],
      "metadata": {
        "colab": {
          "base_uri": "https://localhost:8080/",
          "height": 284
        },
        "id": "7wr7TkwFNe5h",
        "outputId": "47f08a2f-b358-4e4d-a76e-006765a17fd0"
      },
      "execution_count": null,
      "outputs": [
        {
          "output_type": "stream",
          "name": "stdout",
          "text": [
            "original_image\n"
          ]
        },
        {
          "output_type": "display_data",
          "data": {
            "image/png": "[encoded data removed]",
            "text/plain": [
              "<Figure size 432x288 with 1 Axes>"
            ]
          },
          "metadata": {
            "needs_background": "light"
          }
        }
      ]
    },
    {
      "cell_type": "code",
      "source": [
        "print(\"cluster_centre_image\")\n",
        "decode_img(score_to_move)"
      ],
      "metadata": {
        "colab": {
          "base_uri": "https://localhost:8080/",
          "height": 284
        },
        "id": "J0kvN33TOtuK",
        "outputId": "40df424b-f6a0-4aad-ba51-ee08d32a4d24"
      },
      "execution_count": null,
      "outputs": [
        {
          "output_type": "stream",
          "name": "stdout",
          "text": [
            "cluster_centre_image\n"
          ]
        },
        {
          "output_type": "display_data",
          "data": {
            "image/png": "[encoded data removed]",
            "text/plain": [
              "<Figure size 432x288 with 1 Axes>"
            ]
          },
          "metadata": {
            "needs_background": "light"
          }
        }
      ]
    },
    {
      "cell_type": "code",
      "source": [
        "print(\"moved_image\")\n",
        "decode_img(moved_score)"
      ],
      "metadata": {
        "colab": {
          "base_uri": "https://localhost:8080/",
          "height": 284
        },
        "id": "itpe54BfOtqp",
        "outputId": "5cdc7a22-b826-4a06-838a-dd865b7e86fd"
      },
      "execution_count": null,
      "outputs": [
        {
          "output_type": "stream",
          "name": "stdout",
          "text": [
            "moved_image\n"
          ]
        },
        {
          "output_type": "display_data",
          "data": {
            "image/png": "[encoded data removed]",
            "text/plain": [
              "<Figure size 432x288 with 1 Axes>"
            ]
          },
          "metadata": {
            "needs_background": "light"
          }
        }
      ]
    },
    {
      "cell_type": "code",
      "source": [
        ""
      ],
      "metadata": {
        "id": "oOA7q2HCO0oh"
      },
      "execution_count": null,
      "outputs": []
    }
  ]
}