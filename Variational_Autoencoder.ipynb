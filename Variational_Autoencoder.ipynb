{
  "cells": [
    {
      "cell_type": "code",
      "execution_count": null,
      "metadata": {
        "colab": {
          "base_uri": "https://localhost:8080/"
        },
        "id": "AGes8X1MMhnO",
        "outputId": "019ec91f-f6d6-4830-b52a-f6d699019ecd"
      },
      "outputs": [
        {
          "output_type": "stream",
          "name": "stdout",
          "text": [
            "Mounted at /content/gdrive\n"
          ]
        }
      ],
      "source": [
        "from google.colab import drive\n",
        "drive.mount('/content/gdrive')"
      ]
    },
    {
      "cell_type": "code",
      "execution_count": null,
      "metadata": {
        "id": "cBgZtIbmyT-8"
      },
      "outputs": [],
      "source": [
        "PATH_CHK = '/content/gdrive/MyDrive/chk'"
      ]
    },
    {
      "cell_type": "code",
      "execution_count": null,
      "metadata": {
        "id": "w62aDSgF2sa0"
      },
      "outputs": [],
      "source": [
        "import torch\n",
        "import torchvision.datasets as datasets\n",
        "import torchvision.transforms as transforms\n",
        "import torch.nn as nn\n",
        "from torch.autograd import Variable\n",
        "from torch import optim\n",
        "device = torch.device(\"cuda\")\n",
        "import numpy as np"
      ]
    },
    {
      "cell_type": "code",
      "execution_count": null,
      "metadata": {
        "colab": {
          "base_uri": "https://localhost:8080/",
          "height": 100,
          "referenced_widgets": [
            "e52c559d37e94339b6f227b854da0bad",
            "0203e834689c43cdb760f4ac2302bd0d",
            "a3e3ebf50fb84bb68456d1ec9b7ee289",
            "0963b625a97c498897fc903ccd08e0a7",
            "72452ab6ba154fe4b2d151f2a07ecc3a",
            "75298b76e1f54fc4ac4c80bc043375c5",
            "ef0b23c9b5e641adadfa0358e8104f01",
            "72246ef4c56a4143b3c5092168442a87",
            "73b1070867a14f88b21561aa41bc2200",
            "25ac65ad172040599063b071f3ca97f7",
            "8068a5a63da44340ad2133d805df1000"
          ]
        },
        "id": "6mZDlzjc4bca",
        "outputId": "b95447d7-5d66-4ee8-fe94-5ec3ec3292fe"
      },
      "outputs": [
        {
          "output_type": "stream",
          "name": "stdout",
          "text": [
            "Downloading https://www.cs.toronto.edu/~kriz/cifar-10-python.tar.gz to ./data/cifar-10-python.tar.gz\n"
          ]
        },
        {
          "output_type": "display_data",
          "data": {
            "application/vnd.jupyter.widget-view+json": {
              "model_id": "e52c559d37e94339b6f227b854da0bad",
              "version_minor": 0,
              "version_major": 2
            },
            "text/plain": [
              "  0%|          | 0/170498071 [00:00<?, ?it/s]"
            ]
          },
          "metadata": {}
        },
        {
          "output_type": "stream",
          "name": "stdout",
          "text": [
            "Extracting ./data/cifar-10-python.tar.gz to ./data\n",
            "Files already downloaded and verified\n"
          ]
        }
      ],
      "source": [
        "transform = transforms.Compose(\n",
        "    [transforms.ToTensor(),\n",
        "     transforms.Normalize((0.5, 0.5, 0.5), (0.5, 0.5, 0.5))])\n",
        "trainset = datasets.CIFAR10(root='./data', train=True,download=True, transform=transform)\n",
        "valset = datasets.CIFAR10(root='./data', train=False,download=True, transform=transform)\n",
        "trainloader = torch.utils.data.DataLoader(trainset, batch_size=16,shuffle=True)\n",
        "valloader = torch.utils.data.DataLoader(valset, batch_size=16,shuffle=True)"
      ]
    },
    {
      "cell_type": "code",
      "execution_count": null,
      "metadata": {
        "id": "MIPQY0N04rrw"
      },
      "outputs": [],
      "source": [
        "class vae(nn.Module):\n",
        "    def __init__(self):\n",
        "        super().__init__()\n",
        "        self.encoder = nn.Sequential(\n",
        "            nn.Conv2d(3,32,4,2,1),\n",
        "            nn.BatchNorm2d(32),\n",
        "            nn.ReLU(),\n",
        "            nn.Conv2d(32,64,4,2,1),\n",
        "            nn.BatchNorm2d(64),\n",
        "            nn.ReLU(),\n",
        "            nn.Conv2d(64,128,4,2,1),\n",
        "            nn.BatchNorm2d(128),\n",
        "            nn.ReLU()\n",
        "        )\n",
        "        self.feature_size = 4\n",
        "        self.feature_vol = 128*(self.feature_size ** 2)\n",
        "\n",
        "        self.q_mean = nn.Linear(self.feature_vol,128)\n",
        "\n",
        "        self.q_logvar = nn.Linear(self.feature_vol,128)\n",
        "\n",
        "        self.project = nn.Linear(128,self.feature_vol)\n",
        "\n",
        "        self.decoder = nn.Sequential(\n",
        "            nn.ConvTranspose2d(128, 64,kernel_size=4, stride=2, padding=1),\n",
        "            nn.BatchNorm2d(64),\n",
        "            nn.ReLU(),\n",
        "            nn.ConvTranspose2d(64,32,4,2,1),\n",
        "            nn.BatchNorm2d(32),\n",
        "            nn.ReLU(),\n",
        "            nn.ConvTranspose2d(32,3,4,2,1),\n",
        "            nn.BatchNorm2d(3),\n",
        "            nn.ReLU(),\n",
        "            # nn.Tanh()\n",
        "            nn.Sigmoid()\n",
        "        )\n",
        "\n",
        "    def forward(self,x):\n",
        "            encode = self.encoder(x)\n",
        "            mean, logvar = self.q(encode)\n",
        "            z = self.z(mean, logvar)\n",
        "            z_projected = self.project(z).view(\n",
        "                -1, 128,\n",
        "                4,\n",
        "                4,\n",
        "            )\n",
        "            decode = self.decoder(z_projected)\n",
        "            return (mean, logvar), decode\n",
        "\n",
        "    def q(self,encoded):\n",
        "        unenrolled = encoded.view(-1,self.feature_vol)\n",
        "        return self.q_mean(unenrolled),self.q_logvar(unenrolled)\n",
        "\n",
        "    def z(self, mean, logvar):\n",
        "       std = torch.exp(0.5 * logvar)\n",
        "       eps = torch.normal(0, 1, size=(std.size())).to(device)\n",
        "       z = mean + std * eps\n",
        "       return z\n",
        "\n",
        "\n",
        "        #LOSS\n",
        "    def reconstruction_loss(self, x_reconstructed, x):\n",
        "        # return nn.MSELoss()(x_reconstructed,x)\n",
        "        return torch.mean(nn.BCELoss(reduction='sum')(x_reconstructed, x),dim=0)\n",
        "\n",
        "    def kl_divergence_loss(self, mean, logvar):\n",
        "        return ((mean**2 + logvar.exp() - 1 - logvar).mean() / 2)"
      ]
    },
    {
      "cell_type": "code",
      "execution_count": null,
      "metadata": {
        "id": "y4spPLy2CRid"
      },
      "outputs": [],
      "source": [
        "\n",
        "epochs = 50\n",
        "lr = 3e-4\n",
        "weight_decay = 1e-4\n",
        "model = vae().to(device)\n",
        "# mseloss = nn.MSELoss()\n",
        "optimizer = optim.Adam(model.parameters(),lr,weight_decay=weight_decay)"
      ]
    },
    {
      "cell_type": "code",
      "source": [
        "model"
      ],
      "metadata": {
        "id": "YYADWlPXsQFl",
        "outputId": "310226ed-d1e3-4166-da56-8a441902f1fa",
        "colab": {
          "base_uri": "https://localhost:8080/"
        }
      },
      "execution_count": null,
      "outputs": [
        {
          "output_type": "execute_result",
          "data": {
            "text/plain": [
              "vae(\n",
              "  (encoder): Sequential(\n",
              "    (0): Conv2d(3, 32, kernel_size=(4, 4), stride=(2, 2), padding=(1, 1))\n",
              "    (1): BatchNorm2d(32, eps=1e-05, momentum=0.1, affine=True, track_running_stats=True)\n",
              "    (2): ReLU()\n",
              "    (3): Conv2d(32, 64, kernel_size=(4, 4), stride=(2, 2), padding=(1, 1))\n",
              "    (4): BatchNorm2d(64, eps=1e-05, momentum=0.1, affine=True, track_running_stats=True)\n",
              "    (5): ReLU()\n",
              "    (6): Conv2d(64, 128, kernel_size=(4, 4), stride=(2, 2), padding=(1, 1))\n",
              "    (7): BatchNorm2d(128, eps=1e-05, momentum=0.1, affine=True, track_running_stats=True)\n",
              "    (8): ReLU()\n",
              "  )\n",
              "  (q_mean): Linear(in_features=2048, out_features=128, bias=True)\n",
              "  (q_logvar): Linear(in_features=2048, out_features=128, bias=True)\n",
              "  (project): Linear(in_features=128, out_features=2048, bias=True)\n",
              "  (decoder): Sequential(\n",
              "    (0): ConvTranspose2d(128, 64, kernel_size=(4, 4), stride=(2, 2), padding=(1, 1))\n",
              "    (1): BatchNorm2d(64, eps=1e-05, momentum=0.1, affine=True, track_running_stats=True)\n",
              "    (2): ReLU()\n",
              "    (3): ConvTranspose2d(64, 32, kernel_size=(4, 4), stride=(2, 2), padding=(1, 1))\n",
              "    (4): BatchNorm2d(32, eps=1e-05, momentum=0.1, affine=True, track_running_stats=True)\n",
              "    (5): ReLU()\n",
              "    (6): ConvTranspose2d(32, 3, kernel_size=(4, 4), stride=(2, 2), padding=(1, 1))\n",
              "    (7): BatchNorm2d(3, eps=1e-05, momentum=0.1, affine=True, track_running_stats=True)\n",
              "    (8): ReLU()\n",
              "    (9): Sigmoid()\n",
              "  )\n",
              ")"
            ]
          },
          "metadata": {},
          "execution_count": 185
        }
      ]
    },
    {
      "cell_type": "code",
      "execution_count": null,
      "metadata": {
        "colab": {
          "base_uri": "https://localhost:8080/"
        },
        "id": "-QflZ-f9FpgF",
        "outputId": "26436f4e-6ae9-4228-e02e-a30870fddf3a"
      },
      "outputs": [
        {
          "output_type": "stream",
          "name": "stdout",
          "text": [
            "Mon Dec 13 00:04:39 2021       \n",
            "+-----------------------------------------------------------------------------+\n",
            "| NVIDIA-SMI 495.44       Driver Version: 460.32.03    CUDA Version: 11.2     |\n",
            "|-------------------------------+----------------------+----------------------+\n",
            "| GPU  Name        Persistence-M| Bus-Id        Disp.A | Volatile Uncorr. ECC |\n",
            "| Fan  Temp  Perf  Pwr:Usage/Cap|         Memory-Usage | GPU-Util  Compute M. |\n",
            "|                               |                      |               MIG M. |\n",
            "|===============================+======================+======================|\n",
            "|   0  Tesla K80           Off  | 00000000:00:04.0 Off |                    0 |\n",
            "| N/A   53C    P0    61W / 149W |    640MiB / 11441MiB |      0%      Default |\n",
            "|                               |                      |                  N/A |\n",
            "+-------------------------------+----------------------+----------------------+\n",
            "                                                                               \n",
            "+-----------------------------------------------------------------------------+\n",
            "| Processes:                                                                  |\n",
            "|  GPU   GI   CI        PID   Type   Process name                  GPU Memory |\n",
            "|        ID   ID                                                   Usage      |\n",
            "|=============================================================================|\n",
            "|  No running processes found                                                 |\n",
            "+-----------------------------------------------------------------------------+\n"
          ]
        }
      ],
      "source": [
        "!nvidia-smi"
      ]
    },
    {
      "cell_type": "code",
      "execution_count": null,
      "metadata": {
        "colab": {
          "base_uri": "https://localhost:8080/"
        },
        "id": "gqP5MJyHGPQK",
        "outputId": "14e6d4eb-c935-4e79-a485-33c0f33009c3"
      },
      "outputs": [
        {
          "output_type": "stream",
          "name": "stdout",
          "text": [
            "Epoch:[1/50],valLoss: 55200.1576\n",
            "Epoch: [1/50],trainBatchLoss: 33009.376032\n",
            "Epoch:[2/50],valLoss: 53790.0027\n",
            "Epoch: [2/50],trainBatchLoss: 32600.746989\n",
            "Epoch:[3/50],valLoss: 51331.9727\n",
            "Epoch: [3/50],trainBatchLoss: 32416.360826\n",
            "Epoch:[4/50],valLoss: 50522.0746\n",
            "Epoch: [4/50],trainBatchLoss: 32224.749203\n",
            "Epoch:[5/50],valLoss: 50167.5409\n",
            "Epoch: [5/50],trainBatchLoss: 32114.667561\n",
            "Epoch:[6/50],valLoss: 49351.2495\n",
            "Epoch: [6/50],trainBatchLoss: 32050.951192\n",
            "Epoch:[7/50],valLoss: 47705.1024\n",
            "Epoch: [7/50],trainBatchLoss: 31971.857024\n",
            "Epoch:[8/50],valLoss: 46576.9132\n",
            "Epoch: [8/50],trainBatchLoss: 31754.903019\n",
            "Epoch:[9/50],valLoss: 46276.6373\n",
            "Epoch: [9/50],trainBatchLoss: 31639.171970\n",
            "Epoch:[10/50],valLoss: 46180.7320\n",
            "Epoch: [10/50],trainBatchLoss: 31597.077328\n",
            "Epoch:[11/50],valLoss: 46632.9333\n",
            "Epoch: [11/50],trainBatchLoss: 31561.932407\n",
            "Epoch:[12/50],valLoss: 45459.8199\n",
            "Epoch: [12/50],trainBatchLoss: 31509.306956\n",
            "Epoch:[13/50],valLoss: 46686.1973\n",
            "Epoch: [13/50],trainBatchLoss: 31476.440662\n",
            "Epoch:[14/50],valLoss: 44718.5275\n",
            "Epoch: [14/50],trainBatchLoss: 31479.984876\n",
            "Epoch:[15/50],valLoss: 44555.8422\n",
            "Epoch: [15/50],trainBatchLoss: 31454.667522\n",
            "Epoch:[16/50],valLoss: 44423.6312\n",
            "Epoch: [16/50],trainBatchLoss: 31450.302056\n",
            "Epoch:[17/50],valLoss: 44586.4711\n",
            "Epoch: [17/50],trainBatchLoss: 31422.720059\n",
            "Epoch:[18/50],valLoss: 45481.5755\n",
            "Epoch: [18/50],trainBatchLoss: 31417.620156\n",
            "Epoch:[19/50],valLoss: 44398.5028\n",
            "Epoch: [19/50],trainBatchLoss: 31428.799646\n",
            "Epoch:[20/50],valLoss: 44278.1673\n",
            "Epoch: [20/50],trainBatchLoss: 31423.964849\n",
            "Epoch:[21/50],valLoss: 45319.3722\n",
            "Epoch: [21/50],trainBatchLoss: 31402.084986\n",
            "Epoch:[22/50],valLoss: 44619.8286\n",
            "Epoch: [22/50],trainBatchLoss: 31403.543258\n",
            "Epoch:[23/50],valLoss: 44145.5998\n",
            "Epoch: [23/50],trainBatchLoss: 31389.878923\n",
            "Epoch:[24/50],valLoss: 45062.0193\n",
            "Epoch: [24/50],trainBatchLoss: 31385.748724\n",
            "Epoch:[25/50],valLoss: 45025.5575\n",
            "Epoch: [25/50],trainBatchLoss: 31396.077316\n",
            "Epoch:[26/50],valLoss: 45303.6321\n",
            "Epoch: [26/50],trainBatchLoss: 31395.600955\n",
            "Epoch:[27/50],valLoss: 44516.2014\n",
            "Epoch: [27/50],trainBatchLoss: 31396.597699\n",
            "Epoch:[28/50],valLoss: 44175.5055\n",
            "Epoch: [28/50],trainBatchLoss: 31379.932868\n",
            "Epoch:[29/50],valLoss: 45517.8546\n",
            "Epoch: [29/50],trainBatchLoss: 31379.679086\n",
            "Epoch:[30/50],valLoss: 44642.2156\n",
            "Epoch: [30/50],trainBatchLoss: 31384.320669\n",
            "Epoch:[31/50],valLoss: 44511.0125\n",
            "Epoch: [31/50],trainBatchLoss: 31370.001301\n",
            "Epoch:[32/50],valLoss: 44705.6009\n",
            "Epoch: [32/50],trainBatchLoss: 31371.690101\n",
            "Epoch:[33/50],valLoss: 45166.7960\n",
            "Epoch: [33/50],trainBatchLoss: 31366.785557\n",
            "Epoch:[34/50],valLoss: 44423.5878\n",
            "Epoch: [34/50],trainBatchLoss: 31369.684928\n",
            "Epoch:[35/50],valLoss: 45153.3066\n",
            "Epoch: [35/50],trainBatchLoss: 31352.119824\n",
            "Epoch:[36/50],valLoss: 45435.0807\n",
            "Epoch: [36/50],trainBatchLoss: 31533.867203\n",
            "Epoch:[37/50],valLoss: 45395.0574\n",
            "Epoch: [37/50],trainBatchLoss: 31466.087771\n",
            "Epoch:[38/50],valLoss: 45131.4734\n",
            "Epoch: [38/50],trainBatchLoss: 31374.747066\n",
            "Epoch:[39/50],valLoss: 44808.0288\n",
            "Epoch: [39/50],trainBatchLoss: 31364.938291\n",
            "Epoch:[40/50],valLoss: 45042.3472\n",
            "Epoch: [40/50],trainBatchLoss: 31379.121843\n",
            "Epoch:[41/50],valLoss: 44832.5487\n",
            "Epoch: [41/50],trainBatchLoss: 31349.027340\n",
            "Epoch:[42/50],valLoss: 44499.1249\n",
            "Epoch: [42/50],trainBatchLoss: 31354.508503\n",
            "Epoch:[43/50],valLoss: 44543.2332\n",
            "Epoch: [43/50],trainBatchLoss: 31358.741856\n",
            "Epoch:[44/50],valLoss: 44518.7854\n",
            "Epoch: [44/50],trainBatchLoss: 31378.948506\n",
            "Epoch:[45/50],valLoss: 45295.7884\n",
            "Epoch: [45/50],trainBatchLoss: 31387.795774\n",
            "Epoch:[46/50],valLoss: 44521.8008\n",
            "Epoch: [46/50],trainBatchLoss: 31359.312458\n",
            "Epoch:[47/50],valLoss: 44874.4388\n",
            "Epoch: [47/50],trainBatchLoss: 31370.850783\n",
            "Epoch:[48/50],valLoss: 44457.3030\n",
            "Epoch: [48/50],trainBatchLoss: 31360.970168\n",
            "Epoch:[49/50],valLoss: 44304.7726\n",
            "Epoch: [49/50],trainBatchLoss: 31354.414646\n",
            "Epoch:[50/50],valLoss: 44078.5872\n",
            "Epoch: [50/50],trainBatchLoss: 31341.437441\n"
          ]
        }
      ],
      "source": [
        "trainLoss = []\n",
        "valLoss = []\n",
        "for epoch in range(epochs):\n",
        "    model.train()\n",
        "    optimizer.zero_grad()\n",
        "    runningTrain = 0\n",
        "    for idx,(img,_) in enumerate(trainloader):\n",
        "        img = (img*0.5+0.5).to(device)\n",
        "        (mean,logvar),img_reconstruced = model(img)\n",
        "        # print(model.reconstruction_loss(img,img))\n",
        "        # print(model.kl_divergence_loss(mean,logvar))\n",
        "        cumLoss = model.reconstruction_loss(img_reconstruced,img) +  model.kl_divergence_loss(mean,logvar)\n",
        "        cumLoss.backward()\n",
        "        optimizer.step()\n",
        "        runningTrain += cumLoss.detach().item()\n",
        "    trainLoss.append(runningTrain/len(trainloader))\n",
        "    if((epoch+1)%1==0):\n",
        "        model.eval()\n",
        "        runningval = 0\n",
        "        with torch.no_grad():\n",
        "          for vidx,(vimg,_) in enumerate(valloader):\n",
        "              vimg = (vimg*0.5+0.5).to(device)\n",
        "              (vmean,vlogvar),vimg_reconstruced = model(vimg)\n",
        "              valloss = model.reconstruction_loss(vimg,vimg_reconstruced) + model.kl_divergence_loss(vmean,vlogvar)\n",
        "              runningval += valloss.detach().item()\n",
        "        valLoss.append(runningval/len(valloader))\n",
        "        print('Epoch:[{}/{}],valLoss: {:.4f}'.format(epoch+1,epochs,runningval/len(valloader)))\n",
        "    print('Epoch: [{}/{}],trainBatchLoss: {:4f}'.format(epoch+1,epochs,runningTrain/len(trainloader)))\n",
        "        \n",
        "        "
      ]
    },
    {
      "cell_type": "code",
      "execution_count": null,
      "metadata": {
        "id": "QyqLFzTcH6dn"
      },
      "outputs": [],
      "source": [
        " PATH = '/content/gdrive/MyDrive/VAE_CIFAR10_final_1.pt'\n",
        "torch.save(model.state_dict(), PATH)"
      ]
    },
    {
      "cell_type": "code",
      "execution_count": null,
      "metadata": {
        "id": "Qcpc12mkNcGU",
        "colab": {
          "base_uri": "https://localhost:8080/",
          "height": 295
        },
        "outputId": "d30916f7-5492-42ff-e023-bf2701b446f6"
      },
      "outputs": [
        {
          "output_type": "display_data",
          "data": {
            "image/png": "[encoded data removed]",
            "text/plain": [
              "<Figure size 432x288 with 1 Axes>"
            ]
          },
          "metadata": {
            "needs_background": "light"
          }
        }
      ],
      "source": [
        "import matplotlib.pyplot as plt\n",
        "plt.plot(trainLoss[:20],label='train_loss')\n",
        "plt.plot(valLoss[:20],label='val_loss')\n",
        "plt.xlabel('epochs')\n",
        "plt.ylabel('loss')\n",
        "plt.title('VAE learning curve - CIFAR10')\n",
        "plt.legend()\n",
        "plt.show()"
      ]
    },
    {
      "cell_type": "code",
      "execution_count": null,
      "metadata": {
        "id": "1pA8VkfhL0mu",
        "colab": {
          "base_uri": "https://localhost:8080/",
          "height": 295
        },
        "outputId": "b3c7943c-f95a-4bc4-a7b8-d9299216ef68"
      },
      "outputs": [
        {
          "output_type": "display_data",
          "data": {
            "image/png": "[encoded data removed]",
            "text/plain": [
              "<Figure size 432x288 with 1 Axes>"
            ]
          },
          "metadata": {
            "needs_background": "light"
          }
        }
      ],
      "source": [
        "import matplotlib.pyplot as plt\n",
        "plt.plot(trainLoss,label='train_loss')\n",
        "# plt.plot(valLoss,label='val_loss')\n",
        "plt.xlabel('epochs')\n",
        "plt.ylabel('loss')\n",
        "plt.title('VAE learning curve - CIFAR10')\n",
        "plt.legend()\n",
        "plt.show()"
      ]
    },
    {
      "cell_type": "code",
      "execution_count": null,
      "metadata": {
        "id": "YvONJMo3L24O",
        "colab": {
          "base_uri": "https://localhost:8080/",
          "height": 295
        },
        "outputId": "8e45b95c-0aee-4dbb-dc00-b7181babebb2"
      },
      "outputs": [
        {
          "output_type": "display_data",
          "data": {
            "image/png": "[encoded data removed]",
            "text/plain": [
              "<Figure size 432x288 with 1 Axes>"
            ]
          },
          "metadata": {
            "needs_background": "light"
          }
        }
      ],
      "source": [
        "import matplotlib.pyplot as plt\n",
        "# plt.plot(trainLoss,label='train_loss')\n",
        "plt.plot(valLoss,label='val_loss')\n",
        "plt.xlabel('epochs')\n",
        "plt.ylabel('loss')\n",
        "plt.title('VAE learning curve - CIFAR10')\n",
        "plt.legend()\n",
        "plt.show()"
      ]
    },
    {
      "cell_type": "code",
      "execution_count": null,
      "metadata": {
        "id": "ApWfUnJeVwfW"
      },
      "outputs": [],
      "source": [
        "idx = np.random.randint(0,len(trainset))\n",
        "x = trainloader.dataset[idx][0]\n",
        "y = trainloader.dataset[idx][1]\n",
        "(mean,logvar),decode = model.forward(x.view(-1,3,32,32).cuda())"
      ]
    },
    {
      "cell_type": "code",
      "execution_count": null,
      "metadata": {
        "id": "_s7XVzJvZMyL"
      },
      "outputs": [],
      "source": [
        "\n",
        "import matplotlib.pyplot as plt\n"
      ]
    },
    {
      "cell_type": "code",
      "execution_count": null,
      "metadata": {
        "id": "kqFMgzTuZYiH"
      },
      "outputs": [],
      "source": [
        "red = x[0].cpu().numpy()\n",
        "green = x[1].cpu().numpy()\n",
        "blue = x[2].cpu().numpy()\n",
        "img = np.stack((red,green,blue),axis=2)"
      ]
    },
    {
      "cell_type": "code",
      "execution_count": null,
      "metadata": {
        "id": "S-1tqGjsZcS5",
        "colab": {
          "base_uri": "https://localhost:8080/",
          "height": 283
        },
        "outputId": "38fafb53-f55a-47e1-b24b-abb38f81ffba"
      },
      "outputs": [
        {
          "output_type": "execute_result",
          "data": {
            "text/plain": [
              "<matplotlib.image.AxesImage at 0x7f0b24cdf9d0>"
            ]
          },
          "metadata": {},
          "execution_count": 240
        },
        {
          "output_type": "display_data",
          "data": {
            "image/png": "[encoded data removed]",
            "text/plain": [
              "<Figure size 432x288 with 1 Axes>"
            ]
          },
          "metadata": {
            "needs_background": "light"
          }
        }
      ],
      "source": [
        "plt.imshow(img*0.5+0.5)"
      ]
    },
    {
      "cell_type": "code",
      "execution_count": null,
      "metadata": {
        "id": "L56jfeYyZlvB",
        "colab": {
          "base_uri": "https://localhost:8080/",
          "height": 283
        },
        "outputId": "6ec4bfaf-c5dc-453e-9b81-67689193517d"
      },
      "outputs": [
        {
          "output_type": "execute_result",
          "data": {
            "text/plain": [
              "<matplotlib.image.AxesImage at 0x7f0b25451890>"
            ]
          },
          "metadata": {},
          "execution_count": 241
        },
        {
          "output_type": "display_data",
          "data": {
            "image/png": "[encoded data removed]",
            "text/plain": [
              "<Figure size 432x288 with 1 Axes>"
            ]
          },
          "metadata": {
            "needs_background": "light"
          }
        }
      ],
      "source": [
        "x = decode.view(3,32,32)\n",
        "red = x[0].detach().cpu().numpy()\n",
        "green = x[1].detach().cpu().numpy()\n",
        "blue = x[2].detach().cpu().numpy()\n",
        "img = np.stack((red,green,blue),axis=2)\n",
        "plt.imshow(img)"
      ]
    }
  ],
  "metadata": {
    "accelerator": "GPU",
    "colab": {
      "collapsed_sections": [],
      "name": "VAE_CIFAR10.ipynb",
      "provenance": []
    },
    "kernelspec": {
      "display_name": "Python 3",
      "name": "python3"
    },
    "language_info": {
      "name": "python"
    },
    "widgets": {
      "application/vnd.jupyter.widget-state+json": {
        "e52c559d37e94339b6f227b854da0bad": {
          "model_module": "@jupyter-widgets/controls",
          "model_name": "HBoxModel",
          "model_module_version": "1.5.0",
          "state": {
            "_view_name": "HBoxView",
            "_dom_classes": [],
            "_model_name": "HBoxModel",
            "_view_module": "@jupyter-widgets/controls",
            "_model_module_version": "1.5.0",
            "_view_count": null,
            "_view_module_version": "1.5.0",
            "box_style": "",
            "layout": "IPY_MODEL_0203e834689c43cdb760f4ac2302bd0d",
            "_model_module": "@jupyter-widgets/controls",
            "children": [
              "IPY_MODEL_a3e3ebf50fb84bb68456d1ec9b7ee289",
              "IPY_MODEL_0963b625a97c498897fc903ccd08e0a7",
              "IPY_MODEL_72452ab6ba154fe4b2d151f2a07ecc3a"
            ]
          }
        },
        "0203e834689c43cdb760f4ac2302bd0d": {
          "model_module": "@jupyter-widgets/base",
          "model_name": "LayoutModel",
          "model_module_version": "1.2.0",
          "state": {
            "_view_name": "LayoutView",
            "grid_template_rows": null,
            "right": null,
            "justify_content": null,
            "_view_module": "@jupyter-widgets/base",
            "overflow": null,
            "_model_module_version": "1.2.0",
            "_view_count": null,
            "flex_flow": null,
            "width": null,
            "min_width": null,
            "border": null,
            "align_items": null,
            "bottom": null,
            "_model_module": "@jupyter-widgets/base",
            "top": null,
            "grid_column": null,
            "overflow_y": null,
            "overflow_x": null,
            "grid_auto_flow": null,
            "grid_area": null,
            "grid_template_columns": null,
            "flex": null,
            "_model_name": "LayoutModel",
            "justify_items": null,
            "grid_row": null,
            "max_height": null,
            "align_content": null,
            "visibility": null,
            "align_self": null,
            "height": null,
            "min_height": null,
            "padding": null,
            "grid_auto_rows": null,
            "grid_gap": null,
            "max_width": null,
            "order": null,
            "_view_module_version": "1.2.0",
            "grid_template_areas": null,
            "object_position": null,
            "object_fit": null,
            "grid_auto_columns": null,
            "margin": null,
            "display": null,
            "left": null
          }
        },
        "a3e3ebf50fb84bb68456d1ec9b7ee289": {
          "model_module": "@jupyter-widgets/controls",
          "model_name": "HTMLModel",
          "model_module_version": "1.5.0",
          "state": {
            "_view_name": "HTMLView",
            "style": "IPY_MODEL_75298b76e1f54fc4ac4c80bc043375c5",
            "_dom_classes": [],
            "description": "",
            "_model_name": "HTMLModel",
            "placeholder": "​",
            "_view_module": "@jupyter-widgets/controls",
            "_model_module_version": "1.5.0",
            "value": "",
            "_view_count": null,
            "_view_module_version": "1.5.0",
            "description_tooltip": null,
            "_model_module": "@jupyter-widgets/controls",
            "layout": "IPY_MODEL_ef0b23c9b5e641adadfa0358e8104f01"
          }
        },
        "0963b625a97c498897fc903ccd08e0a7": {
          "model_module": "@jupyter-widgets/controls",
          "model_name": "FloatProgressModel",
          "model_module_version": "1.5.0",
          "state": {
            "_view_name": "ProgressView",
            "style": "IPY_MODEL_72246ef4c56a4143b3c5092168442a87",
            "_dom_classes": [],
            "description": "",
            "_model_name": "FloatProgressModel",
            "bar_style": "success",
            "max": 170498071,
            "_view_module": "@jupyter-widgets/controls",
            "_model_module_version": "1.5.0",
            "value": 170498071,
            "_view_count": null,
            "_view_module_version": "1.5.0",
            "orientation": "horizontal",
            "min": 0,
            "description_tooltip": null,
            "_model_module": "@jupyter-widgets/controls",
            "layout": "IPY_MODEL_73b1070867a14f88b21561aa41bc2200"
          }
        },
        "72452ab6ba154fe4b2d151f2a07ecc3a": {
          "model_module": "@jupyter-widgets/controls",
          "model_name": "HTMLModel",
          "model_module_version": "1.5.0",
          "state": {
            "_view_name": "HTMLView",
            "style": "IPY_MODEL_25ac65ad172040599063b071f3ca97f7",
            "_dom_classes": [],
            "description": "",
            "_model_name": "HTMLModel",
            "placeholder": "​",
            "_view_module": "@jupyter-widgets/controls",
            "_model_module_version": "1.5.0",
            "value": " 170499072/? [00:03&lt;00:00, 57891192.51it/s]",
            "_view_count": null,
            "_view_module_version": "1.5.0",
            "description_tooltip": null,
            "_model_module": "@jupyter-widgets/controls",
            "layout": "IPY_MODEL_8068a5a63da44340ad2133d805df1000"
          }
        },
        "75298b76e1f54fc4ac4c80bc043375c5": {
          "model_module": "@jupyter-widgets/controls",
          "model_name": "DescriptionStyleModel",
          "model_module_version": "1.5.0",
          "state": {
            "_view_name": "StyleView",
            "_model_name": "DescriptionStyleModel",
            "description_width": "",
            "_view_module": "@jupyter-widgets/base",
            "_model_module_version": "1.5.0",
            "_view_count": null,
            "_view_module_version": "1.2.0",
            "_model_module": "@jupyter-widgets/controls"
          }
        },
        "ef0b23c9b5e641adadfa0358e8104f01": {
          "model_module": "@jupyter-widgets/base",
          "model_name": "LayoutModel",
          "model_module_version": "1.2.0",
          "state": {
            "_view_name": "LayoutView",
            "grid_template_rows": null,
            "right": null,
            "justify_content": null,
            "_view_module": "@jupyter-widgets/base",
            "overflow": null,
            "_model_module_version": "1.2.0",
            "_view_count": null,
            "flex_flow": null,
            "width": null,
            "min_width": null,
            "border": null,
            "align_items": null,
            "bottom": null,
            "_model_module": "@jupyter-widgets/base",
            "top": null,
            "grid_column": null,
            "overflow_y": null,
            "overflow_x": null,
            "grid_auto_flow": null,
            "grid_area": null,
            "grid_template_columns": null,
            "flex": null,
            "_model_name": "LayoutModel",
            "justify_items": null,
            "grid_row": null,
            "max_height": null,
            "align_content": null,
            "visibility": null,
            "align_self": null,
            "height": null,
            "min_height": null,
            "padding": null,
            "grid_auto_rows": null,
            "grid_gap": null,
            "max_width": null,
            "order": null,
            "_view_module_version": "1.2.0",
            "grid_template_areas": null,
            "object_position": null,
            "object_fit": null,
            "grid_auto_columns": null,
            "margin": null,
            "display": null,
            "left": null
          }
        },
        "72246ef4c56a4143b3c5092168442a87": {
          "model_module": "@jupyter-widgets/controls",
          "model_name": "ProgressStyleModel",
          "model_module_version": "1.5.0",
          "state": {
            "_view_name": "StyleView",
            "_model_name": "ProgressStyleModel",
            "description_width": "",
            "_view_module": "@jupyter-widgets/base",
            "_model_module_version": "1.5.0",
            "_view_count": null,
            "_view_module_version": "1.2.0",
            "bar_color": null,
            "_model_module": "@jupyter-widgets/controls"
          }
        },
        "73b1070867a14f88b21561aa41bc2200": {
          "model_module": "@jupyter-widgets/base",
          "model_name": "LayoutModel",
          "model_module_version": "1.2.0",
          "state": {
            "_view_name": "LayoutView",
            "grid_template_rows": null,
            "right": null,
            "justify_content": null,
            "_view_module": "@jupyter-widgets/base",
            "overflow": null,
            "_model_module_version": "1.2.0",
            "_view_count": null,
            "flex_flow": null,
            "width": null,
            "min_width": null,
            "border": null,
            "align_items": null,
            "bottom": null,
            "_model_module": "@jupyter-widgets/base",
            "top": null,
            "grid_column": null,
            "overflow_y": null,
            "overflow_x": null,
            "grid_auto_flow": null,
            "grid_area": null,
            "grid_template_columns": null,
            "flex": null,
            "_model_name": "LayoutModel",
            "justify_items": null,
            "grid_row": null,
            "max_height": null,
            "align_content": null,
            "visibility": null,
            "align_self": null,
            "height": null,
            "min_height": null,
            "padding": null,
            "grid_auto_rows": null,
            "grid_gap": null,
            "max_width": null,
            "order": null,
            "_view_module_version": "1.2.0",
            "grid_template_areas": null,
            "object_position": null,
            "object_fit": null,
            "grid_auto_columns": null,
            "margin": null,
            "display": null,
            "left": null
          }
        },
        "25ac65ad172040599063b071f3ca97f7": {
          "model_module": "@jupyter-widgets/controls",
          "model_name": "DescriptionStyleModel",
          "model_module_version": "1.5.0",
          "state": {
            "_view_name": "StyleView",
            "_model_name": "DescriptionStyleModel",
            "description_width": "",
            "_view_module": "@jupyter-widgets/base",
            "_model_module_version": "1.5.0",
            "_view_count": null,
            "_view_module_version": "1.2.0",
            "_model_module": "@jupyter-widgets/controls"
          }
        },
        "8068a5a63da44340ad2133d805df1000": {
          "model_module": "@jupyter-widgets/base",
          "model_name": "LayoutModel",
          "model_module_version": "1.2.0",
          "state": {
            "_view_name": "LayoutView",
            "grid_template_rows": null,
            "right": null,
            "justify_content": null,
            "_view_module": "@jupyter-widgets/base",
            "overflow": null,
            "_model_module_version": "1.2.0",
            "_view_count": null,
            "flex_flow": null,
            "width": null,
            "min_width": null,
            "border": null,
            "align_items": null,
            "bottom": null,
            "_model_module": "@jupyter-widgets/base",
            "top": null,
            "grid_column": null,
            "overflow_y": null,
            "overflow_x": null,
            "grid_auto_flow": null,
            "grid_area": null,
            "grid_template_columns": null,
            "flex": null,
            "_model_name": "LayoutModel",
            "justify_items": null,
            "grid_row": null,
            "max_height": null,
            "align_content": null,
            "visibility": null,
            "align_self": null,
            "height": null,
            "min_height": null,
            "padding": null,
            "grid_auto_rows": null,
            "grid_gap": null,
            "max_width": null,
            "order": null,
            "_view_module_version": "1.2.0",
            "grid_template_areas": null,
            "object_position": null,
            "object_fit": null,
            "grid_auto_columns": null,
            "margin": null,
            "display": null,
            "left": null
          }
        }
      }
    }
  },
  "nbformat": 4,
  "nbformat_minor": 0
}